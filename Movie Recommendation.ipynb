{
 "cells": [
  {
   "cell_type": "code",
   "execution_count": 0,
   "metadata": {
    "application/vnd.databricks.v1+cell": {
     "cellMetadata": {
      "byteLimit": 2048000,
      "rowLimit": 10000
     },
     "collapsed": true,
     "inputWidgets": {},
     "nuid": "96505986-2f16-4c89-8366-0547296f39bc",
     "showTitle": false,
     "tableResultSettingsMap": {},
     "title": ""
    }
   },
   "outputs": [
    {
     "output_type": "stream",
     "name": "stdout",
     "output_type": "stream",
     "text": [
      "root\n |-- movieId: integer (nullable = true)\n |-- title: string (nullable = true)\n |-- genres: string (nullable = true)\n\nroot\n |-- userId: integer (nullable = true)\n |-- movieId: integer (nullable = true)\n |-- rating: double (nullable = true)\n |-- timestamp: integer (nullable = true)\n\nroot\n |-- userId: integer (nullable = true)\n |-- movieId: integer (nullable = true)\n |-- tag: string (nullable = true)\n |-- timestamp: integer (nullable = true)\n\n"
     ]
    }
   ],
   "source": [
    "movies_path = \"/FileStore/tables/movies.csv\"\n",
    "ratings_path = \"/FileStore/tables/ratings.csv\"\n",
    "tags_path = \"/FileStore/tables/tags.csv\"\n",
    "\n",
    "movies_df = spark.read.csv(movies_path, header=True, inferSchema=True)\n",
    "ratings_df = spark.read.csv(ratings_path, header=True, inferSchema=True)\n",
    "tags_df = spark.read.csv(tags_path, header=True, inferSchema=True)\n",
    "\n",
    "movies_df.printSchema()\n",
    "ratings_df.printSchema()\n",
    "tags_df.printSchema()\n"
   ]
  },
  {
   "cell_type": "code",
   "execution_count": 0,
   "metadata": {
    "application/vnd.databricks.v1+cell": {
     "cellMetadata": {
      "byteLimit": 2048000,
      "rowLimit": 10000
     },
     "inputWidgets": {},
     "nuid": "5dd10767-64c0-4c70-ad2f-de0ad214cb5c",
     "showTitle": false,
     "tableResultSettingsMap": {},
     "title": ""
    }
   },
   "outputs": [
    {
     "output_type": "stream",
     "name": "stdout",
     "output_type": "stream",
     "text": [
      "+-------+--------------------+--------------------+\n|movieId|               title|              genres|\n+-------+--------------------+--------------------+\n|      1|    Toy Story (1995)|Adventure|Animati...|\n|      2|      Jumanji (1995)|Adventure|Childre...|\n|      3|Grumpier Old Men ...|      Comedy|Romance|\n|      4|Waiting to Exhale...|Comedy|Drama|Romance|\n|      5|Father of the Bri...|              Comedy|\n+-------+--------------------+--------------------+\nonly showing top 5 rows\n\n+------+-------+------+---------+\n|userId|movieId|rating|timestamp|\n+------+-------+------+---------+\n|     1|      1|   4.0|964982703|\n|     1|      3|   4.0|964981247|\n|     1|      6|   4.0|964982224|\n|     1|     47|   5.0|964983815|\n|     1|     50|   5.0|964982931|\n+------+-------+------+---------+\nonly showing top 5 rows\n\n+------+-------+---------------+----------+\n|userId|movieId|            tag| timestamp|\n+------+-------+---------------+----------+\n|     2|  60756|          funny|1445714994|\n|     2|  60756|Highly quotable|1445714996|\n|     2|  60756|   will ferrell|1445714992|\n|     2|  89774|   Boxing story|1445715207|\n|     2|  89774|            MMA|1445715200|\n+------+-------+---------------+----------+\nonly showing top 5 rows\n\nMovies: 9742\nRatings: 100836\nTags: 3683\n"
     ]
    }
   ],
   "source": [
    "# Show sample rows\n",
    "movies_df.show(5)\n",
    "ratings_df.show(5)\n",
    "tags_df.show(5)\n",
    "\n",
    "# Count records\n",
    "print(\"Movies:\", movies_df.count())\n",
    "print(\"Ratings:\", ratings_df.count())\n",
    "print(\"Tags:\", tags_df.count())\n"
   ]
  },
  {
   "cell_type": "code",
   "execution_count": 0,
   "metadata": {
    "application/vnd.databricks.v1+cell": {
     "cellMetadata": {
      "byteLimit": 2048000,
      "rowLimit": 10000
     },
     "inputWidgets": {},
     "nuid": "42cc1309-4938-4da5-ae7e-67eb5f39529c",
     "showTitle": false,
     "tableResultSettingsMap": {},
     "title": ""
    }
   },
   "outputs": [
    {
     "output_type": "stream",
     "name": "stdout",
     "output_type": "stream",
     "text": [
      "+-------+-----+------+\n|movieId|title|genres|\n+-------+-----+------+\n|      0|    0|     0|\n+-------+-----+------+\n\n+------+-------+------+---------+\n|userId|movieId|rating|timestamp|\n+------+-------+------+---------+\n|     0|      0|     0|        0|\n+------+-------+------+---------+\n\n+------+-------+---+---------+\n|userId|movieId|tag|timestamp|\n+------+-------+---+---------+\n|     0|      0|  0|        0|\n+------+-------+---+---------+\n\n"
     ]
    }
   ],
   "source": [
    "# Check for nulls\n",
    "from pyspark.sql.functions import col, isnan, when, count\n",
    "\n",
    "def null_check(df):\n",
    "    df.select([count(when(col(c).isNull(), c)).alias(c) for c in df.columns]).show()\n",
    "\n",
    "null_check(movies_df)\n",
    "null_check(ratings_df)\n",
    "null_check(tags_df)\n"
   ]
  },
  {
   "cell_type": "code",
   "execution_count": 0,
   "metadata": {
    "application/vnd.databricks.v1+cell": {
     "cellMetadata": {
      "byteLimit": 2048000,
      "rowLimit": 10000
     },
     "inputWidgets": {},
     "nuid": "b93a0dd7-51d8-4507-b715-9a90d226de10",
     "showTitle": false,
     "tableResultSettingsMap": {},
     "title": ""
    }
   },
   "outputs": [
    {
     "output_type": "stream",
     "name": "stdout",
     "output_type": "stream",
     "text": [
      "+----------------------------------+---------------------------+----+-------------------------------------------+-------------------------------------------------+\n|title                             |clean_title                |year|genres                                     |genres_array                                     |\n+----------------------------------+---------------------------+----+-------------------------------------------+-------------------------------------------------+\n|Toy Story (1995)                  |Toy Story                  |1995|Adventure|Animation|Children|Comedy|Fantasy|[Adventure, Animation, Children, Comedy, Fantasy]|\n|Jumanji (1995)                    |Jumanji                    |1995|Adventure|Children|Fantasy                 |[Adventure, Children, Fantasy]                   |\n|Grumpier Old Men (1995)           |Grumpier Old Men           |1995|Comedy|Romance                             |[Comedy, Romance]                                |\n|Waiting to Exhale (1995)          |Waiting to Exhale          |1995|Comedy|Drama|Romance                       |[Comedy, Drama, Romance]                         |\n|Father of the Bride Part II (1995)|Father of the Bride Part II|1995|Comedy                                     |[Comedy]                                         |\n+----------------------------------+---------------------------+----+-------------------------------------------+-------------------------------------------------+\nonly showing top 5 rows\n\n"
     ]
    }
   ],
   "source": [
    "from pyspark.sql.functions import regexp_extract, split, col, trim\n",
    "\n",
    "# Extract year using regex (4-digit number inside parentheses)\n",
    "movies_df = movies_df.withColumn(\"year\", regexp_extract(col(\"title\"), r\"\\((\\d{4})\\)\", 1))\n",
    "\n",
    "# Remove year from title to keep clean movie title\n",
    "movies_df = movies_df.withColumn(\"clean_title\", regexp_extract(col(\"title\"), r\"^(.+?)\\s\\(\\d{4}\\)$\", 1))\n",
    "\n",
    "# Split genres into array (genres separated by |)\n",
    "movies_df = movies_df.withColumn(\"genres_array\", split(col(\"genres\"), \"\\|\"))\n",
    "\n",
    "# Show cleaned data sample\n",
    "movies_df.select(\"title\", \"clean_title\", \"year\", \"genres\", \"genres_array\").show(5, truncate=False)\n"
   ]
  },
  {
   "cell_type": "code",
   "execution_count": 0,
   "metadata": {
    "application/vnd.databricks.v1+cell": {
     "cellMetadata": {
      "byteLimit": 2048000,
      "rowLimit": 10000
     },
     "inputWidgets": {},
     "nuid": "eeb4b2dd-cf78-489f-a6bb-c0c9a75679b1",
     "showTitle": false,
     "tableResultSettingsMap": {},
     "title": ""
    }
   },
   "outputs": [
    {
     "output_type": "stream",
     "name": "stdout",
     "output_type": "stream",
     "text": [
      "+------+-------+------+-----------+\n|userId|movieId|rating|rating_date|\n+------+-------+------+-----------+\n|     1|      1|   4.0| 2000-07-30|\n|     1|      3|   4.0| 2000-07-30|\n|     1|      6|   4.0| 2000-07-30|\n|     1|     47|   5.0| 2000-07-30|\n|     1|     50|   5.0| 2000-07-30|\n+------+-------+------+-----------+\nonly showing top 5 rows\n\n"
     ]
    }
   ],
   "source": [
    "from pyspark.sql.functions import from_unixtime\n",
    "\n",
    "# Convert timestamp to date\n",
    "ratings_df = ratings_df.withColumn(\"rating_date\", from_unixtime(col(\"timestamp\")).cast(\"date\"))\n",
    "\n",
    "# Show sample\n",
    "ratings_df.select(\"userId\", \"movieId\", \"rating\", \"rating_date\").show(5)\n"
   ]
  },
  {
   "cell_type": "code",
   "execution_count": 0,
   "metadata": {
    "application/vnd.databricks.v1+cell": {
     "cellMetadata": {
      "byteLimit": 2048000,
      "rowLimit": 10000
     },
     "inputWidgets": {},
     "nuid": "92762a20-b22d-43a6-afb0-68b40e0e425d",
     "showTitle": false,
     "tableResultSettingsMap": {},
     "title": ""
    }
   },
   "outputs": [
    {
     "output_type": "stream",
     "name": "stdout",
     "output_type": "stream",
     "text": [
      "+------+-------+---------------+----------+\n|userId|movieId|            tag| timestamp|\n+------+-------+---------------+----------+\n|     2|  60756|          funny|1445714994|\n|     2|  60756|highly quotable|1445714996|\n|     2|  60756|   will ferrell|1445714992|\n|     2|  89774|   boxing story|1445715207|\n|     2|  89774|            mma|1445715200|\n+------+-------+---------------+----------+\nonly showing top 5 rows\n\n"
     ]
    }
   ],
   "source": [
    "from pyspark.sql.functions import lower\n",
    "\n",
    "tags_df = tags_df.filter(col(\"tag\").isNotNull())\n",
    "tags_df = tags_df.withColumn(\"tag\", lower(col(\"tag\")))\n",
    "\n",
    "tags_df.show(5)\n"
   ]
  },
  {
   "cell_type": "code",
   "execution_count": 0,
   "metadata": {
    "application/vnd.databricks.v1+cell": {
     "cellMetadata": {
      "byteLimit": 2048000,
      "rowLimit": 10000
     },
     "inputWidgets": {},
     "nuid": "f85deb0c-1fb4-4581-be2f-bb347d1a8070",
     "showTitle": false,
     "tableResultSettingsMap": {},
     "title": ""
    }
   },
   "outputs": [],
   "source": [
    "movies_df.createOrReplaceTempView(\"movies\")\n",
    "ratings_df.createOrReplaceTempView(\"ratings\")\n",
    "tags_df.createOrReplaceTempView(\"tags\")\n"
   ]
  },
  {
   "cell_type": "code",
   "execution_count": 0,
   "metadata": {
    "application/vnd.databricks.v1+cell": {
     "cellMetadata": {
      "byteLimit": 2048000,
      "implicitDf": true,
      "rowLimit": 10000
     },
     "inputWidgets": {},
     "nuid": "a05e94e7-180e-48c3-b793-1847ca445771",
     "showTitle": false,
     "tableResultSettingsMap": {},
     "title": ""
    }
   },
   "outputs": [
    {
     "output_type": "display_data",
     "data": {
      "text/html": [
       "<style scoped>\n",
       "  .table-result-container {\n",
       "    max-height: 300px;\n",
       "    overflow: auto;\n",
       "  }\n",
       "  table, th, td {\n",
       "    border: 1px solid black;\n",
       "    border-collapse: collapse;\n",
       "  }\n",
       "  th, td {\n",
       "    padding: 5px;\n",
       "  }\n",
       "  th {\n",
       "    text-align: left;\n",
       "  }\n",
       "</style><div class='table-result-container'><table class='table-result'><thead style='background-color: white'><tr><th>year</th><th>movie_count</th></tr></thead><tbody><tr><td>2018</td><td>41</td></tr><tr><td>2017</td><td>147</td></tr><tr><td>2016</td><td>218</td></tr><tr><td>2015</td><td>274</td></tr><tr><td>2014</td><td>278</td></tr><tr><td>2013</td><td>239</td></tr><tr><td>2012</td><td>233</td></tr><tr><td>2011</td><td>254</td></tr><tr><td>2010</td><td>247</td></tr><tr><td>2009</td><td>282</td></tr><tr><td>2008</td><td>269</td></tr><tr><td>2007</td><td>284</td></tr><tr><td>2006</td><td>295</td></tr><tr><td>2005</td><td>273</td></tr><tr><td>2004</td><td>279</td></tr><tr><td>2003</td><td>279</td></tr><tr><td>2002</td><td>311</td></tr><tr><td>2001</td><td>294</td></tr><tr><td>2000</td><td>283</td></tr><tr><td>1999</td><td>263</td></tr><tr><td>1998</td><td>258</td></tr><tr><td>1997</td><td>260</td></tr><tr><td>1996</td><td>276</td></tr><tr><td>1995</td><td>259</td></tr><tr><td>1994</td><td>237</td></tr><tr><td>1993</td><td>198</td></tr><tr><td>1992</td><td>167</td></tr><tr><td>1991</td><td>147</td></tr><tr><td>1990</td><td>147</td></tr><tr><td>1989</td><td>142</td></tr><tr><td>1988</td><td>165</td></tr><tr><td>1987</td><td>153</td></tr><tr><td>1986</td><td>139</td></tr><tr><td>1985</td><td>126</td></tr><tr><td>1984</td><td>101</td></tr><tr><td>1983</td><td>83</td></tr><tr><td>1982</td><td>87</td></tr><tr><td>1981</td><td>92</td></tr><tr><td>1980</td><td>89</td></tr><tr><td>1979</td><td>69</td></tr><tr><td>1978</td><td>59</td></tr><tr><td>1977</td><td>63</td></tr><tr><td>1976</td><td>44</td></tr><tr><td>1975</td><td>42</td></tr><tr><td>1974</td><td>45</td></tr><tr><td>1973</td><td>59</td></tr><tr><td>1972</td><td>39</td></tr><tr><td>1971</td><td>47</td></tr><tr><td>1970</td><td>33</td></tr><tr><td>1969</td><td>35</td></tr><tr><td>1968</td><td>42</td></tr><tr><td>1967</td><td>42</td></tr><tr><td>1966</td><td>42</td></tr><tr><td>1965</td><td>47</td></tr><tr><td>1964</td><td>43</td></tr><tr><td>1963</td><td>39</td></tr><tr><td>1962</td><td>40</td></tr><tr><td>1961</td><td>34</td></tr><tr><td>1960</td><td>37</td></tr><tr><td>1959</td><td>37</td></tr><tr><td>1958</td><td>31</td></tr><tr><td>1957</td><td>33</td></tr><tr><td>1956</td><td>30</td></tr><tr><td>1955</td><td>36</td></tr><tr><td>1954</td><td>23</td></tr><tr><td>1953</td><td>30</td></tr><tr><td>1952</td><td>16</td></tr><tr><td>1951</td><td>22</td></tr><tr><td>1950</td><td>21</td></tr><tr><td>1949</td><td>25</td></tr><tr><td>1948</td><td>20</td></tr><tr><td>1947</td><td>20</td></tr><tr><td>1946</td><td>23</td></tr><tr><td>1945</td><td>17</td></tr><tr><td>1944</td><td>16</td></tr><tr><td>1943</td><td>10</td></tr><tr><td>1942</td><td>23</td></tr><tr><td>1941</td><td>18</td></tr><tr><td>1940</td><td>25</td></tr><tr><td>1939</td><td>23</td></tr><tr><td>1938</td><td>15</td></tr><tr><td>1937</td><td>16</td></tr><tr><td>1936</td><td>18</td></tr><tr><td>1935</td><td>13</td></tr><tr><td>1934</td><td>11</td></tr><tr><td>1933</td><td>12</td></tr><tr><td>1932</td><td>9</td></tr><tr><td>1931</td><td>14</td></tr><tr><td>1930</td><td>5</td></tr><tr><td>1929</td><td>4</td></tr><tr><td>1928</td><td>4</td></tr><tr><td>1927</td><td>7</td></tr><tr><td>1926</td><td>5</td></tr><tr><td>1925</td><td>4</td></tr><tr><td>1924</td><td>5</td></tr><tr><td>1923</td><td>4</td></tr><tr><td>1922</td><td>1</td></tr><tr><td>1921</td><td>1</td></tr><tr><td>1920</td><td>2</td></tr><tr><td>1919</td><td>1</td></tr><tr><td>1917</td><td>1</td></tr><tr><td>1916</td><td>4</td></tr><tr><td>1915</td><td>1</td></tr><tr><td>1908</td><td>1</td></tr><tr><td>1903</td><td>1</td></tr><tr><td>1902</td><td>1</td></tr><tr><td></td><td>13</td></tr></tbody></table></div>"
      ]
     },
     "metadata": {
      "application/vnd.databricks.v1+output": {
       "addedWidgets": {},
       "aggData": [],
       "aggError": "",
       "aggOverflow": false,
       "aggSchema": [],
       "aggSeriesLimitReached": false,
       "aggType": "",
       "arguments": {},
       "columnCustomDisplayInfos": {},
       "data": [
        [
         "2018",
         41
        ],
        [
         "2017",
         147
        ],
        [
         "2016",
         218
        ],
        [
         "2015",
         274
        ],
        [
         "2014",
         278
        ],
        [
         "2013",
         239
        ],
        [
         "2012",
         233
        ],
        [
         "2011",
         254
        ],
        [
         "2010",
         247
        ],
        [
         "2009",
         282
        ],
        [
         "2008",
         269
        ],
        [
         "2007",
         284
        ],
        [
         "2006",
         295
        ],
        [
         "2005",
         273
        ],
        [
         "2004",
         279
        ],
        [
         "2003",
         279
        ],
        [
         "2002",
         311
        ],
        [
         "2001",
         294
        ],
        [
         "2000",
         283
        ],
        [
         "1999",
         263
        ],
        [
         "1998",
         258
        ],
        [
         "1997",
         260
        ],
        [
         "1996",
         276
        ],
        [
         "1995",
         259
        ],
        [
         "1994",
         237
        ],
        [
         "1993",
         198
        ],
        [
         "1992",
         167
        ],
        [
         "1991",
         147
        ],
        [
         "1990",
         147
        ],
        [
         "1989",
         142
        ],
        [
         "1988",
         165
        ],
        [
         "1987",
         153
        ],
        [
         "1986",
         139
        ],
        [
         "1985",
         126
        ],
        [
         "1984",
         101
        ],
        [
         "1983",
         83
        ],
        [
         "1982",
         87
        ],
        [
         "1981",
         92
        ],
        [
         "1980",
         89
        ],
        [
         "1979",
         69
        ],
        [
         "1978",
         59
        ],
        [
         "1977",
         63
        ],
        [
         "1976",
         44
        ],
        [
         "1975",
         42
        ],
        [
         "1974",
         45
        ],
        [
         "1973",
         59
        ],
        [
         "1972",
         39
        ],
        [
         "1971",
         47
        ],
        [
         "1970",
         33
        ],
        [
         "1969",
         35
        ],
        [
         "1968",
         42
        ],
        [
         "1967",
         42
        ],
        [
         "1966",
         42
        ],
        [
         "1965",
         47
        ],
        [
         "1964",
         43
        ],
        [
         "1963",
         39
        ],
        [
         "1962",
         40
        ],
        [
         "1961",
         34
        ],
        [
         "1960",
         37
        ],
        [
         "1959",
         37
        ],
        [
         "1958",
         31
        ],
        [
         "1957",
         33
        ],
        [
         "1956",
         30
        ],
        [
         "1955",
         36
        ],
        [
         "1954",
         23
        ],
        [
         "1953",
         30
        ],
        [
         "1952",
         16
        ],
        [
         "1951",
         22
        ],
        [
         "1950",
         21
        ],
        [
         "1949",
         25
        ],
        [
         "1948",
         20
        ],
        [
         "1947",
         20
        ],
        [
         "1946",
         23
        ],
        [
         "1945",
         17
        ],
        [
         "1944",
         16
        ],
        [
         "1943",
         10
        ],
        [
         "1942",
         23
        ],
        [
         "1941",
         18
        ],
        [
         "1940",
         25
        ],
        [
         "1939",
         23
        ],
        [
         "1938",
         15
        ],
        [
         "1937",
         16
        ],
        [
         "1936",
         18
        ],
        [
         "1935",
         13
        ],
        [
         "1934",
         11
        ],
        [
         "1933",
         12
        ],
        [
         "1932",
         9
        ],
        [
         "1931",
         14
        ],
        [
         "1930",
         5
        ],
        [
         "1929",
         4
        ],
        [
         "1928",
         4
        ],
        [
         "1927",
         7
        ],
        [
         "1926",
         5
        ],
        [
         "1925",
         4
        ],
        [
         "1924",
         5
        ],
        [
         "1923",
         4
        ],
        [
         "1922",
         1
        ],
        [
         "1921",
         1
        ],
        [
         "1920",
         2
        ],
        [
         "1919",
         1
        ],
        [
         "1917",
         1
        ],
        [
         "1916",
         4
        ],
        [
         "1915",
         1
        ],
        [
         "1908",
         1
        ],
        [
         "1903",
         1
        ],
        [
         "1902",
         1
        ],
        [
         "",
         13
        ]
       ],
       "datasetInfos": [],
       "dbfsResultPath": null,
       "isJsonSchema": true,
       "metadata": {},
       "overflow": false,
       "plotOptions": {
        "customPlotOptions": {},
        "displayType": "table",
        "pivotAggregation": null,
        "pivotColumns": null,
        "xColumns": null,
        "yColumns": null
       },
       "removedWidgets": [],
       "schema": [
        {
         "metadata": "{}",
         "name": "year",
         "type": "\"string\""
        },
        {
         "metadata": "{}",
         "name": "movie_count",
         "type": "\"long\""
        }
       ],
       "type": "table"
      }
     },
     "output_type": "display_data"
    }
   ],
   "source": [
    "%sql\n",
    "-- Count movies per year\n",
    "SELECT year, COUNT(*) as movie_count \n",
    "FROM movies \n",
    "GROUP BY year \n",
    "ORDER BY year DESC;\n",
    "\n"
   ]
  },
  {
   "cell_type": "code",
   "execution_count": 0,
   "metadata": {
    "application/vnd.databricks.v1+cell": {
     "cellMetadata": {
      "byteLimit": 2048000,
      "implicitDf": true,
      "rowLimit": 10000
     },
     "inputWidgets": {},
     "nuid": "4c244ff9-fccf-4a28-a5e8-c310fdf2c5b1",
     "showTitle": false,
     "tableResultSettingsMap": {},
     "title": ""
    }
   },
   "outputs": [
    {
     "output_type": "display_data",
     "data": {
      "text/html": [
       "<style scoped>\n",
       "  .table-result-container {\n",
       "    max-height: 300px;\n",
       "    overflow: auto;\n",
       "  }\n",
       "  table, th, td {\n",
       "    border: 1px solid black;\n",
       "    border-collapse: collapse;\n",
       "  }\n",
       "  th, td {\n",
       "    padding: 5px;\n",
       "  }\n",
       "  th {\n",
       "    text-align: left;\n",
       "  }\n",
       "</style><div class='table-result-container'><table class='table-result'><thead style='background-color: white'><tr><th>genre</th><th>count</th></tr></thead><tbody><tr><td>Drama</td><td>4361</td></tr><tr><td>Comedy</td><td>3756</td></tr><tr><td>Thriller</td><td>1894</td></tr><tr><td>Action</td><td>1828</td></tr><tr><td>Romance</td><td>1596</td></tr><tr><td>Adventure</td><td>1263</td></tr><tr><td>Crime</td><td>1199</td></tr><tr><td>Sci-Fi</td><td>980</td></tr><tr><td>Horror</td><td>978</td></tr><tr><td>Fantasy</td><td>779</td></tr><tr><td>Children</td><td>664</td></tr><tr><td>Animation</td><td>611</td></tr><tr><td>Mystery</td><td>573</td></tr><tr><td>Documentary</td><td>440</td></tr><tr><td>War</td><td>382</td></tr><tr><td>Musical</td><td>334</td></tr><tr><td>Western</td><td>167</td></tr><tr><td>IMAX</td><td>158</td></tr><tr><td>Film-Noir</td><td>87</td></tr><tr><td>(no genres listed)</td><td>34</td></tr></tbody></table></div>"
      ]
     },
     "metadata": {
      "application/vnd.databricks.v1+output": {
       "addedWidgets": {},
       "aggData": [],
       "aggError": "",
       "aggOverflow": false,
       "aggSchema": [],
       "aggSeriesLimitReached": false,
       "aggType": "",
       "arguments": {},
       "columnCustomDisplayInfos": {},
       "data": [
        [
         "Drama",
         4361
        ],
        [
         "Comedy",
         3756
        ],
        [
         "Thriller",
         1894
        ],
        [
         "Action",
         1828
        ],
        [
         "Romance",
         1596
        ],
        [
         "Adventure",
         1263
        ],
        [
         "Crime",
         1199
        ],
        [
         "Sci-Fi",
         980
        ],
        [
         "Horror",
         978
        ],
        [
         "Fantasy",
         779
        ],
        [
         "Children",
         664
        ],
        [
         "Animation",
         611
        ],
        [
         "Mystery",
         573
        ],
        [
         "Documentary",
         440
        ],
        [
         "War",
         382
        ],
        [
         "Musical",
         334
        ],
        [
         "Western",
         167
        ],
        [
         "IMAX",
         158
        ],
        [
         "Film-Noir",
         87
        ],
        [
         "(no genres listed)",
         34
        ]
       ],
       "datasetInfos": [],
       "dbfsResultPath": null,
       "isJsonSchema": true,
       "metadata": {},
       "overflow": false,
       "plotOptions": {
        "customPlotOptions": {},
        "displayType": "table",
        "pivotAggregation": null,
        "pivotColumns": null,
        "xColumns": null,
        "yColumns": null
       },
       "removedWidgets": [],
       "schema": [
        {
         "metadata": "{}",
         "name": "genre",
         "type": "\"string\""
        },
        {
         "metadata": "{}",
         "name": "count",
         "type": "\"long\""
        }
       ],
       "type": "table"
      }
     },
     "output_type": "display_data"
    }
   ],
   "source": [
    "%sql\n",
    "-- Top genres by movie count\n",
    "SELECT genre, COUNT(*) as count FROM (\n",
    "  SELECT explode(genres_array) AS genre FROM movies\n",
    ")\n",
    "GROUP BY genre ORDER BY count DESC;"
   ]
  },
  {
   "cell_type": "code",
   "execution_count": 0,
   "metadata": {
    "application/vnd.databricks.v1+cell": {
     "cellMetadata": {
      "byteLimit": 2048000,
      "implicitDf": true,
      "rowLimit": 10000
     },
     "inputWidgets": {},
     "nuid": "1f2875c9-7944-4907-89dd-4e2a9830375a",
     "showTitle": false,
     "tableResultSettingsMap": {},
     "title": ""
    }
   },
   "outputs": [
    {
     "output_type": "display_data",
     "data": {
      "text/html": [
       "<style scoped>\n",
       "  .table-result-container {\n",
       "    max-height: 300px;\n",
       "    overflow: auto;\n",
       "  }\n",
       "  table, th, td {\n",
       "    border: 1px solid black;\n",
       "    border-collapse: collapse;\n",
       "  }\n",
       "  th, td {\n",
       "    padding: 5px;\n",
       "  }\n",
       "  th {\n",
       "    text-align: left;\n",
       "  }\n",
       "</style><div class='table-result-container'><table class='table-result'><thead style='background-color: white'><tr><th>clean_title</th><th>avg_rating</th><th>num_ratings</th></tr></thead><tbody><tr><td>On the Other Side of the Tracks (De l'autre côté du périph)</td><td>5.0</td><td>1</td></tr><tr><td>Chinese Puzzle (Casse-tête chinois)</td><td>5.0</td><td>1</td></tr><tr><td>My Love</td><td>5.0</td><td>1</td></tr><tr><td>Satin Rouge</td><td>5.0</td><td>1</td></tr><tr><td>My Left Eye Sees Ghosts (Ngo joh aan gin diy gwai)</td><td>5.0</td><td>1</td></tr><tr><td>Happy Feet Two</td><td>5.0</td><td>1</td></tr><tr><td>De platte jungle</td><td>5.0</td><td>1</td></tr><tr><td>Summer's Tale, A (Conte d'été)</td><td>5.0</td><td>1</td></tr><tr><td>Snowflake, the White Gorilla</td><td>5.0</td><td>1</td></tr><tr><td>Act of Killing, The</td><td>5.0</td><td>1</td></tr></tbody></table></div>"
      ]
     },
     "metadata": {
      "application/vnd.databricks.v1+output": {
       "addedWidgets": {},
       "aggData": [],
       "aggError": "",
       "aggOverflow": false,
       "aggSchema": [],
       "aggSeriesLimitReached": false,
       "aggType": "",
       "arguments": {},
       "columnCustomDisplayInfos": {},
       "data": [
        [
         "On the Other Side of the Tracks (De l'autre côté du périph)",
         5.0,
         1
        ],
        [
         "Chinese Puzzle (Casse-tête chinois)",
         5.0,
         1
        ],
        [
         "My Love",
         5.0,
         1
        ],
        [
         "Satin Rouge",
         5.0,
         1
        ],
        [
         "My Left Eye Sees Ghosts (Ngo joh aan gin diy gwai)",
         5.0,
         1
        ],
        [
         "Happy Feet Two",
         5.0,
         1
        ],
        [
         "De platte jungle",
         5.0,
         1
        ],
        [
         "Summer's Tale, A (Conte d'été)",
         5.0,
         1
        ],
        [
         "Snowflake, the White Gorilla",
         5.0,
         1
        ],
        [
         "Act of Killing, The",
         5.0,
         1
        ]
       ],
       "datasetInfos": [],
       "dbfsResultPath": null,
       "isJsonSchema": true,
       "metadata": {},
       "overflow": false,
       "plotOptions": {
        "customPlotOptions": {},
        "displayType": "table",
        "pivotAggregation": null,
        "pivotColumns": null,
        "xColumns": null,
        "yColumns": null
       },
       "removedWidgets": [],
       "schema": [
        {
         "metadata": "{}",
         "name": "clean_title",
         "type": "\"string\""
        },
        {
         "metadata": "{}",
         "name": "avg_rating",
         "type": "\"double\""
        },
        {
         "metadata": "{}",
         "name": "num_ratings",
         "type": "\"long\""
        }
       ],
       "type": "table"
      }
     },
     "output_type": "display_data"
    }
   ],
   "source": [
    "%sql\n",
    "-- Average rating per movie\n",
    "SELECT m.clean_title, AVG(r.rating) as avg_rating, COUNT(r.rating) as num_ratings\n",
    "FROM ratings r\n",
    "JOIN movies m ON r.movieId = m.movieId\n",
    "GROUP BY m.clean_title ORDER BY avg_rating DESC LIMIT 10;\n"
   ]
  },
  {
   "cell_type": "code",
   "execution_count": 0,
   "metadata": {
    "application/vnd.databricks.v1+cell": {
     "cellMetadata": {
      "byteLimit": 2048000,
      "rowLimit": 10000
     },
     "inputWidgets": {},
     "nuid": "e75ddc2f-1f9e-4f9b-911e-9ce78e61fd86",
     "showTitle": false,
     "tableResultSettingsMap": {},
     "title": ""
    }
   },
   "outputs": [
    {
     "output_type": "display_data",
     "data": {
      "text/html": [
       "<style scoped>\n",
       "  .table-result-container {\n",
       "    max-height: 300px;\n",
       "    overflow: auto;\n",
       "  }\n",
       "  table, th, td {\n",
       "    border: 1px solid black;\n",
       "    border-collapse: collapse;\n",
       "  }\n",
       "  th, td {\n",
       "    padding: 5px;\n",
       "  }\n",
       "  th {\n",
       "    text-align: left;\n",
       "  }\n",
       "</style><div class='table-result-container'><table class='table-result'><thead style='background-color: white'><tr><th>clean_title</th><th>count</th></tr></thead><tbody><tr><td>Forrest Gump</td><td>329</td></tr><tr><td>Shawshank Redemption, The</td><td>317</td></tr><tr><td>Pulp Fiction</td><td>307</td></tr><tr><td>Silence of the Lambs, The</td><td>279</td></tr><tr><td>Matrix, The</td><td>278</td></tr><tr><td>Star Wars: Episode IV - A New Hope</td><td>251</td></tr><tr><td>Jurassic Park</td><td>238</td></tr><tr><td>Braveheart</td><td>237</td></tr><tr><td>Terminator 2: Judgment Day</td><td>224</td></tr><tr><td>Schindler's List</td><td>220</td></tr><tr><td>Fight Club</td><td>218</td></tr><tr><td>Toy Story</td><td>215</td></tr><tr><td>Star Wars: Episode V - The Empire Strikes Back</td><td>211</td></tr><tr><td>Usual Suspects, The</td><td>204</td></tr><tr><td>American Beauty</td><td>204</td></tr><tr><td>Seven (a.k.a. Se7en)</td><td>203</td></tr><tr><td>Independence Day (a.k.a. ID4)</td><td>202</td></tr><tr><td>Apollo 13</td><td>201</td></tr><tr><td>Raiders of the Lost Ark (Indiana Jones and the Raiders of the Lost Ark)</td><td>200</td></tr><tr><td>Lord of the Rings: The Fellowship of the Ring, The</td><td>198</td></tr></tbody></table></div>"
      ]
     },
     "metadata": {
      "application/vnd.databricks.v1+output": {
       "addedWidgets": {},
       "aggData": [],
       "aggError": "",
       "aggOverflow": false,
       "aggSchema": [],
       "aggSeriesLimitReached": false,
       "aggType": "",
       "arguments": {},
       "columnCustomDisplayInfos": {},
       "data": [
        [
         "Forrest Gump",
         329
        ],
        [
         "Shawshank Redemption, The",
         317
        ],
        [
         "Pulp Fiction",
         307
        ],
        [
         "Silence of the Lambs, The",
         279
        ],
        [
         "Matrix, The",
         278
        ],
        [
         "Star Wars: Episode IV - A New Hope",
         251
        ],
        [
         "Jurassic Park",
         238
        ],
        [
         "Braveheart",
         237
        ],
        [
         "Terminator 2: Judgment Day",
         224
        ],
        [
         "Schindler's List",
         220
        ],
        [
         "Fight Club",
         218
        ],
        [
         "Toy Story",
         215
        ],
        [
         "Star Wars: Episode V - The Empire Strikes Back",
         211
        ],
        [
         "Usual Suspects, The",
         204
        ],
        [
         "American Beauty",
         204
        ],
        [
         "Seven (a.k.a. Se7en)",
         203
        ],
        [
         "Independence Day (a.k.a. ID4)",
         202
        ],
        [
         "Apollo 13",
         201
        ],
        [
         "Raiders of the Lost Ark (Indiana Jones and the Raiders of the Lost Ark)",
         200
        ],
        [
         "Lord of the Rings: The Fellowship of the Ring, The",
         198
        ]
       ],
       "datasetInfos": [],
       "dbfsResultPath": null,
       "isJsonSchema": true,
       "metadata": {},
       "overflow": false,
       "plotOptions": {
        "customPlotOptions": {},
        "displayType": "table",
        "pivotAggregation": null,
        "pivotColumns": null,
        "xColumns": null,
        "yColumns": null
       },
       "removedWidgets": [],
       "schema": [
        {
         "metadata": "{}",
         "name": "clean_title",
         "type": "\"string\""
        },
        {
         "metadata": "{}",
         "name": "count",
         "type": "\"long\""
        }
       ],
       "type": "table"
      }
     },
     "output_type": "display_data"
    }
   ],
   "source": [
    "from pyspark.sql.functions import desc\n",
    "\n",
    "# Count number of ratings per movie\n",
    "movie_rating_counts = ratings_df.groupBy(\"movieId\").count()\n",
    "\n",
    "# Join with movies to get titles\n",
    "popular_movies = movie_rating_counts.join(movies_df, \"movieId\") \\\n",
    "    .select(\"clean_title\", \"count\") \\\n",
    "    .orderBy(desc(\"count\"))\n",
    "\n",
    "display(popular_movies.limit(20))\n"
   ]
  },
  {
   "cell_type": "code",
   "execution_count": 0,
   "metadata": {
    "application/vnd.databricks.v1+cell": {
     "cellMetadata": {
      "byteLimit": 2048000,
      "rowLimit": 10000
     },
     "inputWidgets": {},
     "nuid": "6434b97e-7587-413d-8be2-30e42a87db2e",
     "showTitle": false,
     "tableResultSettingsMap": {},
     "title": ""
    }
   },
   "outputs": [
    {
     "output_type": "display_data",
     "data": {
      "text/html": [
       "<style scoped>\n",
       "  .table-result-container {\n",
       "    max-height: 300px;\n",
       "    overflow: auto;\n",
       "  }\n",
       "  table, th, td {\n",
       "    border: 1px solid black;\n",
       "    border-collapse: collapse;\n",
       "  }\n",
       "  th, td {\n",
       "    padding: 5px;\n",
       "  }\n",
       "  th {\n",
       "    text-align: left;\n",
       "  }\n",
       "</style><div class='table-result-container'><table class='table-result'><thead style='background-color: white'><tr><th>genre</th><th>avg_rating</th></tr></thead><tbody><tr><td>Film-Noir</td><td>3.920114942528736</td></tr><tr><td>War</td><td>3.8082938876312</td></tr><tr><td>Documentary</td><td>3.797785069729286</td></tr><tr><td>Crime</td><td>3.658293867274144</td></tr><tr><td>Drama</td><td>3.6561844113718758</td></tr><tr><td>Mystery</td><td>3.632460255407871</td></tr><tr><td>Animation</td><td>3.6299370349170004</td></tr><tr><td>IMAX</td><td>3.618335343787696</td></tr><tr><td>Western</td><td>3.583937823834197</td></tr><tr><td>Musical</td><td>3.5636781053649105</td></tr><tr><td>Adventure</td><td>3.5086089151939075</td></tr><tr><td>Romance</td><td>3.5065107040388437</td></tr><tr><td>Thriller</td><td>3.4937055799183425</td></tr><tr><td>Fantasy</td><td>3.4910005070136894</td></tr><tr><td>(no genres listed)</td><td>3.4893617021276597</td></tr><tr><td>Sci-Fi</td><td>3.455721162210752</td></tr><tr><td>Action</td><td>3.447984331646809</td></tr><tr><td>Children</td><td>3.412956125108601</td></tr><tr><td>Comedy</td><td>3.3847207640898267</td></tr><tr><td>Horror</td><td>3.258195034974626</td></tr></tbody></table></div>"
      ]
     },
     "metadata": {
      "application/vnd.databricks.v1+output": {
       "addedWidgets": {},
       "aggData": [],
       "aggError": "",
       "aggOverflow": false,
       "aggSchema": [],
       "aggSeriesLimitReached": false,
       "aggType": "",
       "arguments": {},
       "columnCustomDisplayInfos": {},
       "data": [
        [
         "Film-Noir",
         3.920114942528736
        ],
        [
         "War",
         3.8082938876312
        ],
        [
         "Documentary",
         3.797785069729286
        ],
        [
         "Crime",
         3.658293867274144
        ],
        [
         "Drama",
         3.6561844113718758
        ],
        [
         "Mystery",
         3.632460255407871
        ],
        [
         "Animation",
         3.6299370349170004
        ],
        [
         "IMAX",
         3.618335343787696
        ],
        [
         "Western",
         3.583937823834197
        ],
        [
         "Musical",
         3.5636781053649105
        ],
        [
         "Adventure",
         3.5086089151939075
        ],
        [
         "Romance",
         3.5065107040388437
        ],
        [
         "Thriller",
         3.4937055799183425
        ],
        [
         "Fantasy",
         3.4910005070136894
        ],
        [
         "(no genres listed)",
         3.4893617021276597
        ],
        [
         "Sci-Fi",
         3.455721162210752
        ],
        [
         "Action",
         3.447984331646809
        ],
        [
         "Children",
         3.412956125108601
        ],
        [
         "Comedy",
         3.3847207640898267
        ],
        [
         "Horror",
         3.258195034974626
        ]
       ],
       "datasetInfos": [],
       "dbfsResultPath": null,
       "isJsonSchema": true,
       "metadata": {},
       "overflow": false,
       "plotOptions": {
        "customPlotOptions": {},
        "displayType": "table",
        "pivotAggregation": null,
        "pivotColumns": null,
        "xColumns": null,
        "yColumns": null
       },
       "removedWidgets": [],
       "schema": [
        {
         "metadata": "{}",
         "name": "genre",
         "type": "\"string\""
        },
        {
         "metadata": "{}",
         "name": "avg_rating",
         "type": "\"double\""
        }
       ],
       "type": "table"
      }
     },
     "output_type": "display_data"
    }
   ],
   "source": [
    "from pyspark.sql.functions import explode, avg\n",
    "\n",
    "# Explode genres array\n",
    "genres_exploded = movies_df.select(\"movieId\", explode(\"genres_array\").alias(\"genre\"))\n",
    "\n",
    "# Join with ratings\n",
    "genre_ratings = genres_exploded.join(ratings_df, \"movieId\")\n",
    "\n",
    "# Calculate average rating per genre\n",
    "avg_ratings_per_genre = genre_ratings.groupBy(\"genre\").agg(avg(\"rating\").alias(\"avg_rating\"))\n",
    "\n",
    "display(avg_ratings_per_genre.orderBy(desc(\"avg_rating\")))\n"
   ]
  },
  {
   "cell_type": "code",
   "execution_count": 0,
   "metadata": {
    "application/vnd.databricks.v1+cell": {
     "cellMetadata": {
      "byteLimit": 2048000,
      "rowLimit": 10000
     },
     "inputWidgets": {},
     "nuid": "0159da48-0593-40f6-a53c-88e5fcb4732e",
     "showTitle": false,
     "tableResultSettingsMap": {},
     "title": ""
    }
   },
   "outputs": [
    {
     "output_type": "display_data",
     "data": {
      "text/html": [
       "<style scoped>\n",
       "  .table-result-container {\n",
       "    max-height: 300px;\n",
       "    overflow: auto;\n",
       "  }\n",
       "  table, th, td {\n",
       "    border: 1px solid black;\n",
       "    border-collapse: collapse;\n",
       "  }\n",
       "  th, td {\n",
       "    padding: 5px;\n",
       "  }\n",
       "  th {\n",
       "    text-align: left;\n",
       "  }\n",
       "</style><div class='table-result-container'><table class='table-result'><thead style='background-color: white'><tr><th>year</th><th>count</th></tr></thead><tbody><tr><td></td><td>13</td></tr><tr><td>1902</td><td>1</td></tr><tr><td>1903</td><td>1</td></tr><tr><td>1908</td><td>1</td></tr><tr><td>1915</td><td>1</td></tr><tr><td>1916</td><td>4</td></tr><tr><td>1917</td><td>1</td></tr><tr><td>1919</td><td>1</td></tr><tr><td>1920</td><td>2</td></tr><tr><td>1921</td><td>1</td></tr><tr><td>1922</td><td>1</td></tr><tr><td>1923</td><td>4</td></tr><tr><td>1924</td><td>5</td></tr><tr><td>1925</td><td>4</td></tr><tr><td>1926</td><td>5</td></tr><tr><td>1927</td><td>7</td></tr><tr><td>1928</td><td>4</td></tr><tr><td>1929</td><td>4</td></tr><tr><td>1930</td><td>5</td></tr><tr><td>1931</td><td>14</td></tr><tr><td>1932</td><td>9</td></tr><tr><td>1933</td><td>12</td></tr><tr><td>1934</td><td>11</td></tr><tr><td>1935</td><td>13</td></tr><tr><td>1936</td><td>18</td></tr><tr><td>1937</td><td>16</td></tr><tr><td>1938</td><td>15</td></tr><tr><td>1939</td><td>23</td></tr><tr><td>1940</td><td>25</td></tr><tr><td>1941</td><td>18</td></tr><tr><td>1942</td><td>23</td></tr><tr><td>1943</td><td>10</td></tr><tr><td>1944</td><td>16</td></tr><tr><td>1945</td><td>17</td></tr><tr><td>1946</td><td>23</td></tr><tr><td>1947</td><td>20</td></tr><tr><td>1948</td><td>20</td></tr><tr><td>1949</td><td>25</td></tr><tr><td>1950</td><td>21</td></tr><tr><td>1951</td><td>22</td></tr><tr><td>1952</td><td>16</td></tr><tr><td>1953</td><td>30</td></tr><tr><td>1954</td><td>23</td></tr><tr><td>1955</td><td>36</td></tr><tr><td>1956</td><td>30</td></tr><tr><td>1957</td><td>33</td></tr><tr><td>1958</td><td>31</td></tr><tr><td>1959</td><td>37</td></tr><tr><td>1960</td><td>37</td></tr><tr><td>1961</td><td>34</td></tr><tr><td>1962</td><td>40</td></tr><tr><td>1963</td><td>39</td></tr><tr><td>1964</td><td>43</td></tr><tr><td>1965</td><td>47</td></tr><tr><td>1966</td><td>42</td></tr><tr><td>1967</td><td>42</td></tr><tr><td>1968</td><td>42</td></tr><tr><td>1969</td><td>35</td></tr><tr><td>1970</td><td>33</td></tr><tr><td>1971</td><td>47</td></tr><tr><td>1972</td><td>39</td></tr><tr><td>1973</td><td>59</td></tr><tr><td>1974</td><td>45</td></tr><tr><td>1975</td><td>42</td></tr><tr><td>1976</td><td>44</td></tr><tr><td>1977</td><td>63</td></tr><tr><td>1978</td><td>59</td></tr><tr><td>1979</td><td>69</td></tr><tr><td>1980</td><td>89</td></tr><tr><td>1981</td><td>92</td></tr><tr><td>1982</td><td>87</td></tr><tr><td>1983</td><td>83</td></tr><tr><td>1984</td><td>101</td></tr><tr><td>1985</td><td>126</td></tr><tr><td>1986</td><td>139</td></tr><tr><td>1987</td><td>153</td></tr><tr><td>1988</td><td>165</td></tr><tr><td>1989</td><td>142</td></tr><tr><td>1990</td><td>147</td></tr><tr><td>1991</td><td>147</td></tr><tr><td>1992</td><td>167</td></tr><tr><td>1993</td><td>198</td></tr><tr><td>1994</td><td>237</td></tr><tr><td>1995</td><td>259</td></tr><tr><td>1996</td><td>276</td></tr><tr><td>1997</td><td>260</td></tr><tr><td>1998</td><td>258</td></tr><tr><td>1999</td><td>263</td></tr><tr><td>2000</td><td>283</td></tr><tr><td>2001</td><td>294</td></tr><tr><td>2002</td><td>311</td></tr><tr><td>2003</td><td>279</td></tr><tr><td>2004</td><td>279</td></tr><tr><td>2005</td><td>273</td></tr><tr><td>2006</td><td>295</td></tr><tr><td>2007</td><td>284</td></tr><tr><td>2008</td><td>269</td></tr><tr><td>2009</td><td>282</td></tr><tr><td>2010</td><td>247</td></tr><tr><td>2011</td><td>254</td></tr><tr><td>2012</td><td>233</td></tr><tr><td>2013</td><td>239</td></tr><tr><td>2014</td><td>278</td></tr><tr><td>2015</td><td>274</td></tr><tr><td>2016</td><td>218</td></tr><tr><td>2017</td><td>147</td></tr><tr><td>2018</td><td>41</td></tr></tbody></table></div>"
      ]
     },
     "metadata": {
      "application/vnd.databricks.v1+output": {
       "addedWidgets": {},
       "aggData": [],
       "aggError": "",
       "aggOverflow": false,
       "aggSchema": [],
       "aggSeriesLimitReached": false,
       "aggType": "",
       "arguments": {},
       "columnCustomDisplayInfos": {},
       "data": [
        [
         "",
         13
        ],
        [
         "1902",
         1
        ],
        [
         "1903",
         1
        ],
        [
         "1908",
         1
        ],
        [
         "1915",
         1
        ],
        [
         "1916",
         4
        ],
        [
         "1917",
         1
        ],
        [
         "1919",
         1
        ],
        [
         "1920",
         2
        ],
        [
         "1921",
         1
        ],
        [
         "1922",
         1
        ],
        [
         "1923",
         4
        ],
        [
         "1924",
         5
        ],
        [
         "1925",
         4
        ],
        [
         "1926",
         5
        ],
        [
         "1927",
         7
        ],
        [
         "1928",
         4
        ],
        [
         "1929",
         4
        ],
        [
         "1930",
         5
        ],
        [
         "1931",
         14
        ],
        [
         "1932",
         9
        ],
        [
         "1933",
         12
        ],
        [
         "1934",
         11
        ],
        [
         "1935",
         13
        ],
        [
         "1936",
         18
        ],
        [
         "1937",
         16
        ],
        [
         "1938",
         15
        ],
        [
         "1939",
         23
        ],
        [
         "1940",
         25
        ],
        [
         "1941",
         18
        ],
        [
         "1942",
         23
        ],
        [
         "1943",
         10
        ],
        [
         "1944",
         16
        ],
        [
         "1945",
         17
        ],
        [
         "1946",
         23
        ],
        [
         "1947",
         20
        ],
        [
         "1948",
         20
        ],
        [
         "1949",
         25
        ],
        [
         "1950",
         21
        ],
        [
         "1951",
         22
        ],
        [
         "1952",
         16
        ],
        [
         "1953",
         30
        ],
        [
         "1954",
         23
        ],
        [
         "1955",
         36
        ],
        [
         "1956",
         30
        ],
        [
         "1957",
         33
        ],
        [
         "1958",
         31
        ],
        [
         "1959",
         37
        ],
        [
         "1960",
         37
        ],
        [
         "1961",
         34
        ],
        [
         "1962",
         40
        ],
        [
         "1963",
         39
        ],
        [
         "1964",
         43
        ],
        [
         "1965",
         47
        ],
        [
         "1966",
         42
        ],
        [
         "1967",
         42
        ],
        [
         "1968",
         42
        ],
        [
         "1969",
         35
        ],
        [
         "1970",
         33
        ],
        [
         "1971",
         47
        ],
        [
         "1972",
         39
        ],
        [
         "1973",
         59
        ],
        [
         "1974",
         45
        ],
        [
         "1975",
         42
        ],
        [
         "1976",
         44
        ],
        [
         "1977",
         63
        ],
        [
         "1978",
         59
        ],
        [
         "1979",
         69
        ],
        [
         "1980",
         89
        ],
        [
         "1981",
         92
        ],
        [
         "1982",
         87
        ],
        [
         "1983",
         83
        ],
        [
         "1984",
         101
        ],
        [
         "1985",
         126
        ],
        [
         "1986",
         139
        ],
        [
         "1987",
         153
        ],
        [
         "1988",
         165
        ],
        [
         "1989",
         142
        ],
        [
         "1990",
         147
        ],
        [
         "1991",
         147
        ],
        [
         "1992",
         167
        ],
        [
         "1993",
         198
        ],
        [
         "1994",
         237
        ],
        [
         "1995",
         259
        ],
        [
         "1996",
         276
        ],
        [
         "1997",
         260
        ],
        [
         "1998",
         258
        ],
        [
         "1999",
         263
        ],
        [
         "2000",
         283
        ],
        [
         "2001",
         294
        ],
        [
         "2002",
         311
        ],
        [
         "2003",
         279
        ],
        [
         "2004",
         279
        ],
        [
         "2005",
         273
        ],
        [
         "2006",
         295
        ],
        [
         "2007",
         284
        ],
        [
         "2008",
         269
        ],
        [
         "2009",
         282
        ],
        [
         "2010",
         247
        ],
        [
         "2011",
         254
        ],
        [
         "2012",
         233
        ],
        [
         "2013",
         239
        ],
        [
         "2014",
         278
        ],
        [
         "2015",
         274
        ],
        [
         "2016",
         218
        ],
        [
         "2017",
         147
        ],
        [
         "2018",
         41
        ]
       ],
       "datasetInfos": [],
       "dbfsResultPath": null,
       "isJsonSchema": true,
       "metadata": {},
       "overflow": false,
       "plotOptions": {
        "customPlotOptions": {},
        "displayType": "table",
        "pivotAggregation": null,
        "pivotColumns": null,
        "xColumns": null,
        "yColumns": null
       },
       "removedWidgets": [],
       "schema": [
        {
         "metadata": "{}",
         "name": "year",
         "type": "\"string\""
        },
        {
         "metadata": "{}",
         "name": "count",
         "type": "\"long\""
        }
       ],
       "type": "table"
      }
     },
     "output_type": "display_data"
    }
   ],
   "source": [
    "movies_per_year = movies_df.groupBy(\"year\").count().orderBy(\"year\")\n",
    "display(movies_per_year)\n"
   ]
  },
  {
   "cell_type": "code",
   "execution_count": 0,
   "metadata": {
    "application/vnd.databricks.v1+cell": {
     "cellMetadata": {
      "byteLimit": 2048000,
      "rowLimit": 10000
     },
     "inputWidgets": {},
     "nuid": "f164499d-911d-4df8-9a94-0d1c2578f568",
     "showTitle": false,
     "tableResultSettingsMap": {},
     "title": ""
    }
   },
   "outputs": [
    {
     "output_type": "display_data",
     "data": {
      "text/html": [
       "<style scoped>\n",
       "  .table-result-container {\n",
       "    max-height: 300px;\n",
       "    overflow: auto;\n",
       "  }\n",
       "  table, th, td {\n",
       "    border: 1px solid black;\n",
       "    border-collapse: collapse;\n",
       "  }\n",
       "  th, td {\n",
       "    padding: 5px;\n",
       "  }\n",
       "  th {\n",
       "    text-align: left;\n",
       "  }\n",
       "</style><div class='table-result-container'><table class='table-result'><thead style='background-color: white'><tr><th>year</th><th>count</th></tr></thead><tbody><tr><td>1996</td><td>6040</td></tr><tr><td>1997</td><td>1916</td></tr><tr><td>1998</td><td>507</td></tr><tr><td>1999</td><td>2439</td></tr><tr><td>2000</td><td>10061</td></tr><tr><td>2001</td><td>3922</td></tr><tr><td>2002</td><td>3478</td></tr><tr><td>2003</td><td>4014</td></tr><tr><td>2004</td><td>3279</td></tr><tr><td>2005</td><td>5813</td></tr><tr><td>2006</td><td>4059</td></tr><tr><td>2007</td><td>7114</td></tr><tr><td>2008</td><td>4351</td></tr><tr><td>2009</td><td>4158</td></tr><tr><td>2010</td><td>2301</td></tr><tr><td>2011</td><td>1690</td></tr><tr><td>2012</td><td>4656</td></tr><tr><td>2013</td><td>1664</td></tr><tr><td>2014</td><td>1439</td></tr><tr><td>2015</td><td>6616</td></tr><tr><td>2016</td><td>6703</td></tr><tr><td>2017</td><td>8198</td></tr><tr><td>2018</td><td>6418</td></tr></tbody></table></div>"
      ]
     },
     "metadata": {
      "application/vnd.databricks.v1+output": {
       "addedWidgets": {},
       "aggData": [],
       "aggError": "",
       "aggOverflow": false,
       "aggSchema": [],
       "aggSeriesLimitReached": false,
       "aggType": "",
       "arguments": {},
       "columnCustomDisplayInfos": {},
       "data": [
        [
         1996,
         6040
        ],
        [
         1997,
         1916
        ],
        [
         1998,
         507
        ],
        [
         1999,
         2439
        ],
        [
         2000,
         10061
        ],
        [
         2001,
         3922
        ],
        [
         2002,
         3478
        ],
        [
         2003,
         4014
        ],
        [
         2004,
         3279
        ],
        [
         2005,
         5813
        ],
        [
         2006,
         4059
        ],
        [
         2007,
         7114
        ],
        [
         2008,
         4351
        ],
        [
         2009,
         4158
        ],
        [
         2010,
         2301
        ],
        [
         2011,
         1690
        ],
        [
         2012,
         4656
        ],
        [
         2013,
         1664
        ],
        [
         2014,
         1439
        ],
        [
         2015,
         6616
        ],
        [
         2016,
         6703
        ],
        [
         2017,
         8198
        ],
        [
         2018,
         6418
        ]
       ],
       "datasetInfos": [],
       "dbfsResultPath": null,
       "isJsonSchema": true,
       "metadata": {},
       "overflow": false,
       "plotOptions": {
        "customPlotOptions": {},
        "displayType": "table",
        "pivotAggregation": null,
        "pivotColumns": null,
        "xColumns": null,
        "yColumns": null
       },
       "removedWidgets": [],
       "schema": [
        {
         "metadata": "{}",
         "name": "year",
         "type": "\"integer\""
        },
        {
         "metadata": "{}",
         "name": "count",
         "type": "\"long\""
        }
       ],
       "type": "table"
      }
     },
     "output_type": "display_data"
    }
   ],
   "source": [
    "from pyspark.sql.functions import year\n",
    "\n",
    "ratings_over_time = ratings_df.groupBy(year(\"rating_date\").alias(\"year\")).count().orderBy(\"year\")\n",
    "display(ratings_over_time)\n"
   ]
  },
  {
   "cell_type": "code",
   "execution_count": 0,
   "metadata": {
    "application/vnd.databricks.v1+cell": {
     "cellMetadata": {
      "byteLimit": 2048000,
      "rowLimit": 10000
     },
     "inputWidgets": {},
     "nuid": "7f32c3a8-71b0-453a-a732-4cfe3bc1d001",
     "showTitle": false,
     "tableResultSettingsMap": {},
     "title": ""
    }
   },
   "outputs": [
    {
     "output_type": "display_data",
     "data": {
      "text/html": [
       "<style scoped>\n",
       "  .table-result-container {\n",
       "    max-height: 300px;\n",
       "    overflow: auto;\n",
       "  }\n",
       "  table, th, td {\n",
       "    border: 1px solid black;\n",
       "    border-collapse: collapse;\n",
       "  }\n",
       "  th, td {\n",
       "    padding: 5px;\n",
       "  }\n",
       "  th {\n",
       "    text-align: left;\n",
       "  }\n",
       "</style><div class='table-result-container'><table class='table-result'><thead style='background-color: white'><tr><th>clean_title</th><th>avg_rating</th><th>num_ratings</th></tr></thead><tbody><tr><td>Shawshank Redemption, The</td><td>4.429022082018927</td><td>317</td></tr><tr><td>Godfather, The</td><td>4.2890625</td><td>192</td></tr><tr><td>Fight Club</td><td>4.272935779816514</td><td>218</td></tr><tr><td>Cool Hand Luke</td><td>4.271929824561403</td><td>57</td></tr><tr><td>Dr. Strangelove or: How I Learned to Stop Worrying and Love the Bomb</td><td>4.268041237113402</td><td>97</td></tr><tr><td>Rear Window</td><td>4.261904761904762</td><td>84</td></tr><tr><td>Godfather: Part II, The</td><td>4.25968992248062</td><td>129</td></tr><tr><td>Departed, The</td><td>4.252336448598131</td><td>107</td></tr><tr><td>Goodfellas</td><td>4.25</td><td>126</td></tr><tr><td>Casablanca</td><td>4.24</td><td>100</td></tr><tr><td>Dark Knight, The</td><td>4.238255033557047</td><td>149</td></tr><tr><td>Usual Suspects, The</td><td>4.237745098039215</td><td>204</td></tr><tr><td>Princess Bride, The</td><td>4.232394366197183</td><td>142</td></tr><tr><td>Star Wars: Episode IV - A New Hope</td><td>4.231075697211155</td><td>251</td></tr><tr><td>Schindler's List</td><td>4.225</td><td>220</td></tr><tr><td>Apocalypse Now</td><td>4.219626168224299</td><td>107</td></tr><tr><td>American History X</td><td>4.217054263565892</td><td>129</td></tr><tr><td>Star Wars: Episode V - The Empire Strikes Back</td><td>4.2156398104265405</td><td>211</td></tr><tr><td>Chinatown</td><td>4.211864406779661</td><td>59</td></tr><tr><td>Raiders of the Lost Ark (Indiana Jones and the Raiders of the Lost Ark)</td><td>4.2075</td><td>200</td></tr></tbody></table></div>"
      ]
     },
     "metadata": {
      "application/vnd.databricks.v1+output": {
       "addedWidgets": {},
       "aggData": [],
       "aggError": "",
       "aggOverflow": false,
       "aggSchema": [],
       "aggSeriesLimitReached": false,
       "aggType": "",
       "arguments": {},
       "columnCustomDisplayInfos": {},
       "data": [
        [
         "Shawshank Redemption, The",
         4.429022082018927,
         317
        ],
        [
         "Godfather, The",
         4.2890625,
         192
        ],
        [
         "Fight Club",
         4.272935779816514,
         218
        ],
        [
         "Cool Hand Luke",
         4.271929824561403,
         57
        ],
        [
         "Dr. Strangelove or: How I Learned to Stop Worrying and Love the Bomb",
         4.268041237113402,
         97
        ],
        [
         "Rear Window",
         4.261904761904762,
         84
        ],
        [
         "Godfather: Part II, The",
         4.25968992248062,
         129
        ],
        [
         "Departed, The",
         4.252336448598131,
         107
        ],
        [
         "Goodfellas",
         4.25,
         126
        ],
        [
         "Casablanca",
         4.24,
         100
        ],
        [
         "Dark Knight, The",
         4.238255033557047,
         149
        ],
        [
         "Usual Suspects, The",
         4.237745098039215,
         204
        ],
        [
         "Princess Bride, The",
         4.232394366197183,
         142
        ],
        [
         "Star Wars: Episode IV - A New Hope",
         4.231075697211155,
         251
        ],
        [
         "Schindler's List",
         4.225,
         220
        ],
        [
         "Apocalypse Now",
         4.219626168224299,
         107
        ],
        [
         "American History X",
         4.217054263565892,
         129
        ],
        [
         "Star Wars: Episode V - The Empire Strikes Back",
         4.2156398104265405,
         211
        ],
        [
         "Chinatown",
         4.211864406779661,
         59
        ],
        [
         "Raiders of the Lost Ark (Indiana Jones and the Raiders of the Lost Ark)",
         4.2075,
         200
        ]
       ],
       "datasetInfos": [],
       "dbfsResultPath": null,
       "isJsonSchema": true,
       "metadata": {},
       "overflow": false,
       "plotOptions": {
        "customPlotOptions": {},
        "displayType": "table",
        "pivotAggregation": null,
        "pivotColumns": null,
        "xColumns": null,
        "yColumns": null
       },
       "removedWidgets": [],
       "schema": [
        {
         "metadata": "{}",
         "name": "clean_title",
         "type": "\"string\""
        },
        {
         "metadata": "{}",
         "name": "avg_rating",
         "type": "\"double\""
        },
        {
         "metadata": "{}",
         "name": "num_ratings",
         "type": "\"long\""
        }
       ],
       "type": "table"
      }
     },
     "output_type": "display_data"
    }
   ],
   "source": [
    "from pyspark.sql.functions import avg\n",
    "\n",
    "# Calculate average ratings and count ratings\n",
    "movie_avg_ratings = ratings_df.groupBy(\"movieId\") \\\n",
    "    .agg(avg(\"rating\").alias(\"avg_rating\"), count(\"rating\").alias(\"num_ratings\"))\n",
    "\n",
    "# Filter movies with at least 50 ratings\n",
    "popular_high_rated = movie_avg_ratings.filter(col(\"num_ratings\") >= 50)\n",
    "\n",
    "# Join with movies to get title\n",
    "popular_high_rated = popular_high_rated.join(movies_df, \"movieId\") \\\n",
    "    .select(\"clean_title\", \"avg_rating\", \"num_ratings\") \\\n",
    "    .orderBy(desc(\"avg_rating\"))\n",
    "\n",
    "display(popular_high_rated.limit(20))\n"
   ]
  },
  {
   "cell_type": "code",
   "execution_count": 0,
   "metadata": {
    "application/vnd.databricks.v1+cell": {
     "cellMetadata": {
      "byteLimit": 2048000,
      "rowLimit": 10000
     },
     "inputWidgets": {},
     "nuid": "01722b82-66e9-4436-901f-4b61fddf9cfa",
     "showTitle": false,
     "tableResultSettingsMap": {},
     "title": ""
    }
   },
   "outputs": [
    {
     "output_type": "display_data",
     "data": {
      "application/vnd.databricks.v1+bamboolib_hint": "{\"pd.DataFrames\": [], \"version\": \"0.0.1\"}",
      "text/plain": []
     },
     "metadata": {},
     "output_type": "display_data"
    },
    {
     "output_type": "display_data",
     "data": {
      "image/png": "[encoded data removed]"
     },
     "metadata": {
      "application/vnd.databricks.v1+output": {
       "addedWidgets": {},
       "arguments": {},
       "data": "data:image/png;base64,iVBORw0KGgoAAAANSUhEUgAAAtMAAAGDCAYAAADpkpxbAAAAOXRFWHRTb2Z0d2FyZQBNYXRwbG90bGliIHZlcnNpb24zLjUuMSwgaHR0cHM6Ly9tYXRwbG90bGliLm9yZy/YYfK9AAAACXBIWXMAAAsTAAALEwEAmpwYAAByAUlEQVR4nO3dZ3hcxd338e+o22q21dy73MEGHMB0bHpoKYSQUJKQQBJSSC93cqc9udN7CCVAKAm9BEjoptnGGBeMe5NcZVnFstXrap4XMyutZcnq2pX0+1zXXpZnz86Z0+b8d3bOjLHWIiIiIiIinRcV7gKIiIiIiPRXCqZFRERERLpIwbSIiIiISBcpmBYRERER6SIF0yIiIiIiXaRgWkRERESkixRMi4h0gDHmTGPM1nCXI8gYM9EYY40xMeEuS5AxZpcx5rxwl0NEpC8pmBaRAcEHcnXGmPQW6e/5oHNid/K31i6x1k7vViFbMMacY4xpNMZUGGPKjTFbjTGf7sl1RApjzH3++FQYY0qMMa8YY2b0QL6fNcZsNsbEh6SlGWMKjTEXdTd/EZH2KJgWkYFkJ3BN8D/GmOOAoeErTofst9YmASnA14C/G2N6NGiPIL/22zoWKATu62wGLVvirbV3A3nA/4Yk/xF43lr7YpdLeox1ioiEUjAtIgPJg8D1If+/AXggdAFjTKox5gFjTJExZrcx5gfGmChjTLwx5rAxZk7IshnGmGpjTKZvRd4X8t5oY8yTPp+dxpivhLx3sjFmlTGmzBhTYIz5fXsFt87zQAlwvM8nyhjzXWNMjjHmoDHmMWPMiNY+77frHmNMvjEmzxjz/4wx0f69KcaY13wexcaYfxljhoV89jv+M8HW8UUdWb8x5jq/Dw8aY/6nvW0M2dYq4CFgTgf25Y+NMU8YY/5pjCkDPtVKlp8FvmiMmWeMuRBYBHytA8douT/m+caYvxpj4kLet8aYW4wx24HtHd02ERl8FEyLyEDyDpBijJnpA8mPA/9sscxfgFRgMnA2Lvj+tLW2FniKkJZt4GPAm9bawtAMjDFRwHPA+8AYXPB2qw/kAP4E/MlamwJMAR5rr+A+cL0cSAd2+OQvA1f6co4GDgG3tZHFfUADMBU4AbgAF2QCGOAXPo+ZwDjgx36904EvAR+w1iYDFwK72lu/MWYWcDtwnX8vDdfi3C5jTBLwSeC9DuxLgCuAJ4BhwL9a5met3YVrmb4XuAP4IlDaTr4B3C8B6cAC//4XW2R9JXAKMKsj2yUig5S1Vi+99NKr379wAeB5wA9wgeNFwCtADGCBiUA0UAfMCvnczcAb/u/zgJyQ95YB1/u/zwH2+b9PAfa0WP/3gH/4v98CfgKkt1Pmc4BG4DBQiwvwbg15fzOwKOT/o4B6v00T/XbFAFn+80NClr0GeL2N9V4JvOf/norrcnEeENtiuWOt/3+BR0LeS/T79rw21nkfUOO39QDwLO6LRnv78sfAWx04/gZYATzdkWPUyudvDX7W/98CC8N9Xuull16R/1I/MBEZaB7EBbOTaNHFA9cKGQvsDknbjWu5BHgdGGqMOQUoAOYBT7eyjgnAaGPM4ZC0aGCJ//tG4KfAFmPMTuAn1tr/tFHe/dbasf4Bul8CC3F9foPredoY0xiyfAAXPLcsTyyQb4wJpkUBewGMMVm41vIzgWT/3iEAa+0OY8ytuKB1tjHmJeDr1tr97ax/dDB/n0+lMeZgG9sY9Ftr7Q9CE4wxJ3HsfUnoetpirbXGmM1AsCvOMY+RMWYa8HtgPq5ffQywukW27a5XRETdPERkQLHW7sY9iHgJrttGqGJcy+qEkLTxuAfYsNYGcF0yrvGv/1hry1tZzV5gp7V2WMgr2Vp7ic9nu7X2GiAT+BXwhDEmsZ1y1wLfAY4zxlwZsp6LW6wnwVqb10p5anEt4cHlUqy1s/37/4draT3Ouq4n1+JacoPrfshae4bfL9aXub315+O6iwBgjBmK6+rRWcfcl8Ei9kK+twNbgGy/T75PyD7pxnpFZJBRMC0iA9GNuJ/oK0MTQ4Llnxtjko0xE4Cvc2S/6oeAq3F9eh9qI/93gXL/4N4QY0y0MWaOMeYDAMaYa40xGdbaYBcOcN05jslaWwf8juaRKe7wZZ3g880wxlzRyufygZeB3xljUnz/6ynGmLP9IslABVBqjBkDfCv4WWPMdGPMQt8yXgNUh5T1WOt/ArjUGHOGf3Dvp3TtnnLMfdkN7eWbDJQBFcYN0feFbq5PRAYpBdMiMuBYa3OstavaePvLQCWQCyzFBcz3hnx2hX9/NPBCG/kHgEtx3UB24lq878Y92Aiuv/ZGY0wFrnvFx6211R0s/r3AeGPMZf6zzwIvG2PKcQ9YntLG564H4oBNuC4cT+D6OIPrv30i7qG8/3Jki32we0kxri9zJq5vMcdav7V2I3ALbv/l+3Xuo5M6sC+7pAP5fhP4BFAO/B14tDvrE5HBy1irX7FERERERLpCLdMiIiIiIl2kYFpEREREpIsUTIuIiIiIdJGCaRERERGRLlIwLSIiIiLSRf16BsT09HQ7ceLEcBdDRERERAa41atXF1trM1qm9+tgeuLEiaxa1dZQsiIiIiIiPcMYs7u1dHXzEBERERHpIgXTIiIiIiJdpGBaRERERKSLFEyLiIiIiHSRgmkRERERkS5SMC0iIiIi0kUKpkVEREREukjBtIiIiIhIFymYFhERERHpIgXTIiIiIiJdpGBaRERERKSLFEyLiIiIdIG1li0HysJdDAkzBdMiIiIiXfDSxgIu+uMSVu8+FO6iSBgpmBYRERHpgqfW7ANg7d7D4S2IhJWCaREREZFOKq2q542tRQBs2q+uHoOZgmkRERGRTnphQz51gUZGpSawKV/B9GCmYFpERESkk55Zu59J6YlcMW8MOwrLqWtoDHeRJEwUTIuIiIh0woHSGt7ZeZAr5o1m9ugU6gOW7YXl4S6WhImCaREREZFOeO79/VgLV8wbw6zRKYD6TQ9mMeEugIiIiEh/8sz7ecwdm8qk9EQCjZYhsdHqNz2I9VrLtDEmwRjzrjHmfWPMRmPMT3z6JGPMCmPMDmPMo8aYOJ8e7/+/w78/sbfKJiIiItIVOwor2JBXxuXzxgAQHWWYMSpZLdODWG9286gFFlpr5wLzgIuMMacCvwL+YK2dChwCbvTL3wgc8ul/8MuJiIiIRIxn1+YRZeCy40c1pc0alcKm/DKstWEsmYRLrwXT1qnw/431LwssBJ7w6fcDV/q/r/D/x7+/yBhjeqt8IiIiIp1hreXfa/dz2pR0MlMSmtJnjU6hvKaBfYeqw1g6CZdefQDRGBNtjFkLFAKvADnAYWttg19kHzDG/z0G2Avg3y8F0lrJ8yZjzCpjzKqioqLeLL6IiIhIk7V7D7OnpIrL540+In3WKP8QovpND0q9GkxbawPW2nnAWOBkYEYP5HmXtXa+tXZ+RkZGd7MTERER6ZBn1u4nLiaKi+aMPCJ9xsgUooxG9Bis+mRoPGvtYeB1YAEwzBgTHEVkLJDn/84DxgH491OBg31RPhEREZFjaQg08p91+1k0I5OUhNgj3hsSF82k9ES1TA9SvTmaR4YxZpj/ewhwPrAZF1R/1C92A/CM//tZ/3/8+69Z9eQXERGRCPB2zkGKK+q4okUXj6BZo1PVMj1I9WbL9CjgdWPMOmAl8Iq19j/Ad4CvG2N24PpE3+OXvwdI8+lfB77bi2UTERER6bB/r80jOSGGc6Zntvr+rFEp5B2uprSqvkfWtyGvlNN/+RrbCzSzYqTrtUlbrLXrgBNaSc/F9Z9umV4DXNVb5RERERHpitKqel7acIAPHj+KhNjoVpdpmgkxv4wFU44aP6HT/rMun7zD1fzihS3c+6kPdDs/6T2aTlxERETkGG57YwdV9QE+ffqkNpfp6RE9lu4oIibK8NqWQpbn6BGySKZgWkRERKQN+w5Vcd+yXXzkxLHM9AFzazKS48lIju+RftMHK2rZkFfG58+ewujUBH7xwmYaG/UYWaRSMC0iIiLSht+/vA1j4OvnT2t32eBMiN21dEcxAOfPyuLrF0xn3b5S/rs+v9v5Su9QMC0iIiLSig15pTy9No9Pnz6J0cOGtLv8rNEp7Cgsp66hsVvrXbK9mGFDY5kzJpUPnTCGGSOT+fVLW6htCHQrX+kdCqZFREREWvGrF7eQOiSWL5wzpUPLzxqVQn3Asr2w6yNwWGtZsr2I06ekEx1liI4yfO+SmewtqeZf7+zpcr7SexRMi4iIiLTw1rYilmwv5ssLs0kdEtv+BwgZ0aMb/aa3F1ZQUFbLmdnpTWlnZadzxtR0/vLadspqemboPek5CqZFREREQjQ2Wn7xwhbGDh/CtaeO7/DnJqYlMiQ2ulv9pt/aVgTAGSHBtDGG7148g0NV9dzxRk6X85beoWBaREREJMS/1+axOb+Mb104nfiY1seVbk10lGHGqORutUwv3VHM5IxExg4fekT6nDGpXDlvNPcs3Ul+aXWX85eep2BaRERExKupD/Dbl7Zy3JhULju+9anDjyU4ooe1nR/KrrYhwDu5BzkrO6PV979xwXSsdSOMSORQMC0iIiLi3f/2LvaX1vC9i2cQFWU6/flZo1Mor2lg36HOtx6v3nWImvrGI/pLhxo3YijXnjqBp97L40BpTafzl96hYFpEREQEN5LGP1fs5rQpaZw2tfWAtj3dmQnxre3FxEQZTpnc9nTkN5w2gUCj5fFVe9vNz1rLP9/ZTWGZAu/epGBaREREBDeSxt6Saj54/Kgu5zFjZApRpmsjeizZXsSJE4aTFB/T5jIT0hI5Y2o6j6zcS6CdWRHf2FbED/69gUdWth94S9cpmBYREREBXt1cAMCiGVldzmNIXDST0hM73TJdXFHLxv1lnNVGF49Q15w8nrzD1by1veiYy935phv5Y2tB18e9lva1/dVHREREZBBZvLmQOWNSGJma0K18Zo1O5Y0thXz+wdVHvbdwRiYf+8C4o9KX+SnEz2zj4cNQ58/KIj0pjodX7OHc6ZmtLrN272HeyS0hNtqw7YCC6d6klmkREREZ9Eoq61iz51C3WqWDrpw3mjHDh7CzuPKI14b9pXz7yXVNLcahQqcQb09cTBQfPWkci7cUUtBGf+g738whJSGGT54ygZ3FlX02Ffn+w9V898l1bB9EreFqmRYREZFB7/UthVgLi2a23tLbGYtmZrFo5tFBeUOgkVsfXcsvXtgCwM1nu2nKm6YQn+qmEO+Ia04exx1v5vDYyr18eVH2Ee/tLK7kxY0H+OI5U5iWlcx9b+9iZ3ElM0amdHPL2vf8+nweWbmXp9bkcev52dx05mRiogd22+3A3joREREZcO5eksttr+/o0TwXbykgMzmeOaPbbxnuqpjoKP549TwuPX4Uv3hhS1MLddMU4p0YQeRYDyL+fUkusdFR3HDaRKaPTAZgax919cgtriQlIYbzZmXy6xe38pHb32bbAG+lVjAtIiIi/UZNfYA/vbqdPy3eTmlVfY/kWdfQyFvbilk0M7NLY0t3RmsBdWtTiHfEJ045+kHEwvIanli9j4+cOJbM5AQmpycRE2X6LKDNKaxgamYSf/vkSfz1Eyew91A1l/55Kbe9voOGQGOflKGvKZgWERGRfuP1LYWU1zZQ19DIc+v290ieK3YepKK2oUf6S3dEy4D6b2/ktDqFeHvOm+keRHxoxZ6mtPvf3kV9oJGbzpoMuP7Vk9IT2VZQ0aPb0Jbc4kqmZCQBcOnxo3n5a2exaGYmv3lpK7c8tKZPytDXFEyLiIhIv/HM2v2kJ8UzPSuZJ1bv65E8F28uJD4mitO7OFFLV4QG1CWVdW1OIX4scTFRXDV/HK9tKeRAaQ0VtQ08uHw3F80eyaT0xKblpo1M7pOW6bKaeorKa5nsg2mA9KR4br/2JK6eP443txV1aZr1SKdgWkRERPqF0up6XttSyGVzR3HV/LGs3XuYHYXdCxKttby6uYAzpqYzJC66h0raMcGA+mdXzOaL50zpUh4f/8C4phkRH3l3D2U1DU2t0kHTs5LZU1JFVV1DTxS7TblFlQBMyUg86r3srCRq6hspq+7dMoSDgmkRERHpF17acIC6QCNXzBvDlSeMISbK8Hg3W6e3FVSw71B1q6Nv9IWY6CiuWzCRzJSujW09IS2RM7Pdg4j3LN3JKZNGcML44UcsMy0rGWthR2HvdvXILXL5h7ZMB2X57csvq+7VMoSDgmkRERHpF/69No+JaUOZOzaV9KR4zpmeydNr8rr1YNviLX7Wwx4YEi9cgjMi5pfW8PlWWrj7akSPnKIKoqMM40cc3fd7lJ8I50Bp6+Ni92cKpkVERCTiFZTVsDz3IJfPG4MxbsSNj540lsLyWpb42QO7YvHmQo4bk9rUctofuQcRXT/yc6Yd3fd6/IihxMdE9Xq/6dyiSiaMGEpczNHhZXD/tjXJTH+mSVtEREQk4j33/n6shSvmjW5KWzgjk+FDY3li9b42p9U+loMVtazZc4ivLMxuf+EIFhcTxb8+ewpDYqObvmiEio4yTM1MYmsvj+iRU1TB5Fb6S0NINw+1TIuIiIj0vWfW7ue4MalNw66BCyKvmDeGVzYWdGnM6de3FmGta9nt76aPTGZ8WttD603PSmZbL3bzCDRadhVXHXF8QsXFRJGeFDcgW6YVTIuIiEhEyymqYH1e6RGt0kEfPWksdYFGnu3CmNOLNxeQlRLPnDG9P812uE0bmcyBspoem+impX2HqqgLNLbZMg2udVot0yIiIiJ97Nm1+zEGLpt7dDA9e3QKM0Z2fszp2oYAb20rYuGMrFa7Rgw007PcQ4jbujmUYFuah8VrvWUa3EOIegBRREREpA9Za3lmbR6nTUlr9SFBYwwfPWks7+89zPZOPGC3IreEyroA5/XjUTw6Y1ovj+iRc4xh8YKyUhI4oG4eIiIiIn1n3b5Sdh2s4oq5Y9pcJjjm9BNrOtY6vSGvlO8+uY6UhJg+nfUwnEanJpAUH9NrI3rkFFUybGgsIxLj2lxmVGoCh6vqqakP9EoZwkXBtIiIiESsf6/NIy4miouOG9nmMulJ8Zw7o2NjTr+4IZ+r7liOBR763KkkxPbtrIfhYoxhWlZSrwXTuUUVx+ziAc0jegy0rh4KpkVERCQiBRotz72fz8LpmaQkxB5z2eCY0/98Zze1DUe3fFpr+etr2/n8P9cwfWQyz3zpdOaMSe2tokek6SOT2XqgHGttj+edU1TJ5PS2Hz4EGJU6BGDAdfVQMC0iIiIRaXnOQYorarnyhKMfPGzp3OmZTM1M4sfPbWL+z17la4+u5dVNBdQ2BKipD/C1R9fy25e3ceW80Txy06lkJvffSVq6alpWMoeq6imuqOvRfMtq6imuqGVK5rFbpkemxgMDb+IWTdoiIiIiEenlTQcYGhfNOR2YkCUuJooXvnomy3YU8/z6fF7aWMDT7+WRHB9DenI8O4sr+daF0/niOVMGxegdrWka0aOgnIzk+B7LNziSR3st0yN9y/RAGx5PwbSIiIhEpCXbizl1clqH+zXHRkdxzvRMzpmeyc8/1NgUWG/IK+OOa0/iojlt97seDEJH9OjJBy9zCt1IHu21TCfFx5AUHzPg+kwrmBYREZGIs7ekip3FlVy/YEKXPh8aWIuTnhRPWmJcjz+EmFtcQUyUYfyItmdgDBo5AMeaVp9pERERiThLdxQDcGZ2RphLMrBkZyWxtYeD6ZzCSsanDSU2uv2wcuQAHGtawbSIiIhEnCXbixidmsCUY0xPLZ03PSuZbW2M6PHs+/v5/ctbO51nbnEFk9OP3cUjKCtFLdMdZowZZ4x53RizyRiz0RjzVZ/+Y2NMnjFmrX9dEvKZ7xljdhhjthpjLuytsomIiEjkCjRalm4v5szsjEH7sGBvmTYymcq6AHmHq49If31LIbc+8h5/fm0HhZ1oOQ40WnYVV3X4S8+o1ASKKmoJNPb88Hzh0pst0w3AN6y1s4BTgVuMMbP8e3+w1s7zr+cB/HsfB2YDFwF/M8YMjpHURUREpMm6fYcpq2ngzGmDY3bCvhQ6okfQpv1lfOmhNU3jQL+xrajD+e07VEVdoLHdCVuCslITCDRaiitqO1HqyNZrwbS1Nt9au8b/XQ5sBtqeCxSuAB6x1tZaa3cCO4CTe6t8IiIiEpmWbC/GGDh9ioLpnpadFRzRw43AUVBWw433ryQ5IZYnvrCArJR43tza8WC6aVi8jrZM+1kQB9LweH3SZ9oYMxE4AVjhk75kjFlnjLnXGDPcp40B9oZ8bB/HDr5FRERkAFqyvYjjxqQyPDEu3EUZcFKHxDIqNYFtBeVU1TVw4/0rKa2u555PzWdU6hDOnpbBku1F7U7LHpRT5IfF62DL9MjUgTeleK8H08aYJOBJ4FZrbRlwOzAFmAfkA7/rZH43GWNWGWNWFRV1/JuTiIiIRL7ymnrW7DnMmdlqle4t07KS2ZxfxlceXsum/WX89RMnMHu0m1r9nOmZlNU08N7ewx3KK6eokuFDYzv8xac5mK5uZ8n+o1eDaWNMLC6Q/pe19ikAa22BtTZgrW0E/k5zV448YFzIx8f6tCNYa++y1s631s7PyNBwOSIiIgPJ8pyDBBqthsTrRdNHJrPlQDmvbi7gR5fNZuGMrKb3zshOJzrK8PqWwg7llVNU0eFWaYARQ+OIjTYcKFOf6XYZ9/jtPcBma+3vQ9JHhSz2IWCD//tZ4OPGmHhjzCQgG3i3t8onIiIikWfpjmKGxkVz4vjh7S8sXTLDz4T46dMncsNpE494LyUhlpMmDOeNDvabzi2q7HB/aYCoKOOHxxs4LdO9OQPi6cB1wHpjzFqf9n3gGmPMPMACu4CbAay1G40xjwGbcCOB3GKtDfRi+URERCTCLNlezILJacTFaCqM3nLJcaNIiI3mwtmtT69+zvQMfv3iVgrLasj0Dwy2prS6nuKKWiZ3omUaBt7ELb05msdSa62x1h4fOgyetfY6a+1xPv1ya21+yGd+bq2dYq2dbq19obfKJiIiIpEnOIW4+kv3roTYaC45bhTRUa2P4X3ONDcFe3tD5OV28uHDoIE2pbi+9omIiEhEWLLdTSF+hvpLh9XMUckdGiKvs8PiBQVbplubhbE/UjAtIiIiEUFTiEcGYwznTMvkrXaGyMspqiAmyjB+xNBO5T8yNYGa+kbKqhu6W9SIoGBaREREwq4h0MiyHZpCPFKcMz2D8poG1uw53OYyuUWVjE8bSmx058LJ4PB4+WUD4yFEBdMiIiISduvySjWFeAQ5PTudmCjDG1vbHiKvs8PiBY1MGVgTtyiYFhERkbBbsk1TiEeSlIRYTjzGEHmBRsvug1Wd7i8NA28WRAXTIiIiEnZLdxRxvKYQjyjnTM9gU34ZhS2GsbPW8uNnN1IXaGTe2GGdzjcz2QfTA2R4PAXTIiIiElbBKcTP0JB4EaW1IfKstfzvMxt58J3d3HzWZC6a0/pY1ccSFxNFelK8WqZFREREesK6faUEGi2nTk4Ld1EkRMsh8loG0t+9eEaXHxYdmRqvlmkRERGRnpDjJ//IzkwOc0kkVOgQefWBxh4LpAFGpgxRy7SIiIhIT8gtqiQxLpqslPhwF0VaCA6Rd8O97/ZYIA1qmRYRERHpMTlFFUzOSNL40hEoOETe2zkHeyyQBhiVOoTDVfXU1Ad6oJThFRPuAoiIiMjglltUyQcmDg93MaQVKQmxfOGcKSTERvPFc6b02BeerJCxpiem9+8ZLxVMi4iISNhU1wXIO1zN1Rnjwl0UacM3Lpje43mOSm0eHq+/B9Pq5iEiIiJhk1vsHj7sykx60n9lDaBZEBVMi4iISNjkFlUCdGkmPem/RqYOnIlbFEyLiIhI2OQWVWIMTOrnP/VL5yTFx5AcH6OWaREREZHuyCmqYMywISTERoe7KNLHslITFEyLiIiIdEdusRsWTwafUakJ6uYhIiIi0lXWWnKLKpmi/tKDUlaKWqZFREREuuxAWQ1VdQG1TA9So1ITKKqopSHQGO6idIuCaREREQmL4EgeU/Tw4aCUlZJAoNFSXFEX7qJ0i4JpERERCYucIj/GdKZapgejUQNkeDwF0yIiIhIWuUWVJMZFk5kcH+6iSBg0T9xSHeaSdI+CaREREQmLnKIKpmQmYYwJd1EkDJpapvv5Q4gKpkVERCQscosqmaz+0oPWiMQ44qKjyFc3DxEREZHOqa4LkHe4WiN5DGLGGDJT4iksqw13UbpFwbSIiIj0udxi//ChgulBLS0pnuIKBdMiIiIinRIcFm+yJmwZ1NIT4yip1NB4IiIiIp2SU1SBMTBJfaYHtRGJcRzUONMiIiIinZNbVMmYYUNIiI0Od1EkjNKS4jlYWYu1NtxF6TIF0yIiItLncosr1F9aSE+Koz5gKa9tCHdRukzBtIiIiPQpa60bFk/9pQe9EYlxAP26q4eCaREREelTB8pqqKoLaFg8IS3JzX5ZUtl/R/RQMC0iIiJ9KqfQjeQxRS3Tg16ab5kuVsu0iIiISMdojGkJSktSNw8RERGRTsktqiQpPobM5PhwF0XCLNhnWt08RERERDoop6iCyRmJGGPCXRQJs/iYaJITYtTNQ0RERKSjcosqmazJWsRLS4zjYD+eBVHBtIiIiPSZqroG8g5Xq7+0NElLilc3j9YYY8YZY143xmwyxmw0xnzVp48wxrxijNnu/x3u040x5s/GmB3GmHXGmBN7q2wiIiISHjuL3UgeGhZPgvr7lOK92TLdAHzDWjsLOBW4xRgzC/gusNhamw0s9v8HuBjI9q+bgNt7sWwiIiISBrlFfli8THXzECc9KW7w9Jk2xkQZY1I6sqy1Nt9au8b/XQ5sBsYAVwD3+8XuB670f18BPGCdd4BhxphRnSmfiIiIRLacogqMgYlpCqbFSUuM51BVHY2NNtxF6ZJ2g2ljzEPGmBRjTCKwAdhkjPlWZ1ZijJkInACsALKstfn+rQNAlv97DLA35GP7fJqIiIgMELlFlYwZNoSE2OhwF0UixIjEOAKNltLq+nAXpUs60jI9y1pbhmtBfgGYBFzX0RUYY5KAJ4FbfT5NrLUW6NTXEGPMTcaYVcaYVUVFRZ35qIiIiIRZTlGFHj6UIzRN3NJPR/ToSDAda4yJxQXTz1pr6+lgAOw/9yTwL2vtUz65INh9w/9b6NPzgHEhHx/r045grb3LWjvfWjs/IyOjI8UQERGRCNDYaN2weJpGXEKkJ7nJew5W9M8RPToSTN8J7AISgbeMMROAsmN+Ajc6B3APsNla+/uQt54FbvB/3wA8E5J+vR/V41SgNKQ7iIiIiPRzOw9WUl0fYNaoDj1+JYNEcBbE/toyHdPeAtbaPwN/DknabYw5twN5n47rDrLeGLPWp30f+CXwmDHmRmA38DH/3vPAJcAOoAr4dEc2QERERPqHDXmlAMwZkxrmkkgk6e/dPNoNpo0xWcD/AaOttRf74e0W4Fqd22StXQq0NU/oolaWt8At7ZZYRERE+qWN+8uIi4liaqb6TEuzEUN9MD2Au3ncB7wEjPb/3wbc2kvlERERkQFq4/5SZoxMJjZaEzBLs5joKIYNje23E7d05GxOt9Y+BjQCWGsbgECvlkpEREQGFGstG/LKmD1aXTzkaGmJcZT0024eHQmmK40xafgRPIIPB/ZqqURERGRAyTtcTWl1PbNH6+FDOVpaYjzF/bSbR7t9poGv40bamGKMWQZkAB/t1VKJiIjIgLIhzw0EpocPpTVpSXFsL6wIdzG6pCOjeawxxpwNTMc9ULjVjzUtIiIi0iEb95cSHWWYMTI53EWRCJSWFMeKnf2zm0ebwbQxZqG19jVjzIdbvDXNGEPIJCwiIiIix7RxfxlTM5I0jbi0akRiPIeq6mgINBLTzx5QPVbL9NnAa8BlrbxnAQXTIiIi0iEb8ko5Y2p6uIshESo9KQ5r4VBVPRnJ8eEuTqe0GUxba3/k//ystVajd4iIiEiXFJbXUFhey2z1l5Y2pCW6ALqksq7fBdMdaUffaYy5yxizyE8RLiIiItJhG/f7hw81koe0oWlK8X44okdHgukZwKu42Ql3GmP+aow5o3eLJSIiIgPFJh9Mz1IwLW1I78dTircbTFtrq6y1j1lrPwycAKQAb/Z6yURERGRA2JBXysS0oSQnxIa7KBKh0pJc146B2jKNMeZsY8zfgNVAAvCxXi2ViIiIDBgb9pdq5kM5pmFDYoky/bNlut1xpo0xu4D3gMeAb1lrK3u7UCIiIjIwlFbVs7ekmmtOHh/uokgEi4oyjEiMG5jBNHC8tbas10siIiIiA87G/FIA5qhlWtoxIjFuwHbzSDHGPG2MKfSvJ40xY3u9ZCIiItLvBR8+nK2HD6UdaYnxHKzofy3THQmm/wE8C4z2r+d8moiIiMgxbcgrZVRqQtMDZiJtSUuKo6QfdvPoSDCdYa39h7W2wb/uAzJ6uVwiIiIyAGzYX6ZWaemQtMQ4igdoN4+DxphrjTHR/nUtcLC3CyYiIiL9W1VdA7lFFRrJQzokLSmespoG6hoaw12UTulIMP0Z3FB4B4B84KPAp3uzUCIiItL/bc4vp9HCHE0jLh2Q5iduOVTVv7p6tDuah7V2N3B5H5RFREREBpBN+91IHurmIR2R5qcUL66oJSslIcyl6bg2g2ljzJ+P9UFr7Vd6vjgiIiIyUGzIK2NEYhyjUvtPYCThE3xItb89hHislunPAxtwk7XsB0yflEhEREQGBDfzYQrGKISQ9gVbpvvb8HjHCqZHAVcBVwMNwKPAE9baw31QLhEREenH6hoa2VZQzo1nTA53UaSfSEt0LdP9bUSPNh9AtNYetNbeYa09F/fA4TBgkzHmur4qnIiIiPRP2wrKqQ9Y9ZeWDksZEkNMlBlQ3TwAMMacCFwDnA+8AKzu7UKJiIhI/xac+VAjeUhHGWP8lOIDJJg2xvwU+CCwGXgE+J61tqGvCiYiIiL914b9pSTFxzBhxNBwF0X6kbSkeA5W9q9uHsdqmf4BsBOY61//5x8gMIC11h7f+8UTERGR/mhFbgnHj00lKkoPH0rHpSfFcXAAdfOY1GelEBERkT73+tZCSirq+MhJY3s0370lVWwtKOcH82f2aL4y8I1IjGP3wapwF6NT2gym/WQtIiIiMgBV1TXwzcfep7ahkSvmjSYmuiOTInfM4s0FACyckdljecrgkJYYz8GBMpqHiIiIDFz/fGc3ByvrqKhtYF1eaY/mvXhLIZPTE5mckdSj+crAl5YUR2VdgJr6QLiL0mEKpkVERAaZqroG7nwzl3njhgHw9o7iHsu7oraBFbklLJqpVmnpvKaJW/pRv+k2g2ljzGL/76/6rjgiIiLS24Kt0j+8dCYzR6WwbMfBHst7ybYi6gKNLJqZ1WN5yuARnFK8P3X1OOYMiMaY04DLjTGP0GI6cWvtml4tmYiIiPS4YKv0mdnpnDRhBKdPSeOBd3ZTUx8gITa62/m/urmQ1CGxzJ8wvAdKK4NNWlL/a5k+VjD9v8APgbHA71u8Z4GFvVUoERER6R3BVulbz8sG4PSp6dy9dCerdh3ijOz0buUdaLS8vrWQc6Zn9OgDjTJ4NHXz6EcTtxxrNI8ngCeMMT+01v6sD8skIiIivaBlqzTAByaNICbKsCynuNvB9Nq9hyiprFMXD+myYDePkn40cUu704lba39mjLkcOMsnvWGt/U/vFktERER6WstWaYCk+BjmjhvG2znd7ze9eHMhMVGGs6dldDsvGZwS46KJi4nqVy3T7f4GY4z5BfBVYJN/fdUY83+9XTARERHpOa21SgedPiWN9fsOU1pd3611LN5cyAcmjiB1SGy38pHByxhDemIcxQMpmAY+CJxvrb3XWnsvcBFwae8WS0RERHpSa63SQadNTafRworcrrdOB2c91JB40l1pSfH9qptHR58OGBbyd2ovlENERER6ybFapQFOGD+MhNiobnX1CM56qP7S0l0jEuP61WgeHQmmfwG8Z4y5zxhzP7Aa+Hl7HzLG3GuMKTTGbAhJ+7ExJs8Ys9a/Lgl573vGmB3GmK3GmAu7sjEiIiJytIff3dtmqzRAfEw0H5g4gmXdmLxl8ZZCJmckMik9sct5iIAbHm9A9Zm21j4MnAo8BTwJLLDWPtqBvO/DdQlp6Q/W2nn+9TyAMWYW8HFgtv/M34wx3R/sUkREZJALNFruf3sXH5g4vNVW6aDTpqSzvbCCwrKaTq+jvKaed3IPcp5apaUHpCfFc7CyFmttuIvSIR3q5mGtzbfWPutfBzr4mbeAkg6W4wrgEWttrbV2J7ADOLmDnxUREZE2vLG1kD0lVdxw2sRjLnf61DQAlneh3/TS7cXUByyLZqi/tHTfiMQ4auobqaoLhLsoHRKOEdW/ZIxZ57uBBKdHGgPsDVlmn087ijHmJmPMKmPMqqKiot4uq4iISL9239u7GJmSwIWzRx5zudmjU0lJiOlSV4/grIcnadZD6QH9beKWvg6mbwemAPOAfOB3nc3AWnuXtXa+tXZ+RobGsRQREWnL9oJylmwv5roFE4htZ0bC6CjDgilpLNtxsFM/rwdnPTxXsx5KD0n3E7cc7Ccjehxz0hbfb3mjtXZGT6zMWlsQkvffgeDkL3nAuJBFx/o0ERER6aL7l+8iLiaKj39gXPsL46YWf2ljAXtKqpiQduSDhPWBRp57fz/lNQ1HpBeV12rWQ+lRI/pZy/Qxg2lrbcCPrjHeWrunuyszxoyy1ub7/34ICI708SzwkDHm98BoIBt4t7vrExERGaxKq+t5ak0eV8wd3TRFc3tOm+L6TS/bcfCIYPpQZR1f+Ndq3slt/VGolIQYztKsh9JDgsF0SdUACKa94cBGY8y7QGUw0Vp7+bE+ZIx5GDgHSDfG7AN+BJxjjJkHWGAXcLPPa6Mx5jHcDIsNwC3W2v7R61xERCQCPb5qL1V1gXYfPAw1JSOJzOR4luUU84lTxgOwo7CcG+9fRf7hGn571VwWtvKQ4dC4aBJiNQiX9IzkBBeeVrT4FSRSdSSY/mFXMrbWXtNK8j3HWP7ndGD8ahERETm2QKPlgeW7+cDE4cwZ0/G51owxnD41nTe3FdHYaHlrexFffug94mOjePimU/WAofSJpHgXnrbsUhSpOjLO9Ju4VuRY//dKYE0vl0tERES66PUtbji8T502qdOfPW1KGiWVdfz4uY185r6VjB0xlH/fcroCaekzMdFRDImNprymPtxF6ZB2g2ljzOeAJ4A7fdIY4N+9WCYRERHphvve3sWo1AQumN35hwJPm5oOwAPLd3PezCye+PwCxg4f2tNFFDmm5IQYKmr7R8t0R7p53IKbQGUFgLV2uzFGo7KLiIhEoO0F5SzdUcy3Lpze7nB4rRkzbAgfmz+W0cOG8JWF2URFmV4opcixJSXE9JtuHh0JpmuttXXGuIvJGBODe4BQREREIkxwOLxrTh7f5Tx+/dG5PVgikc5LToilvJ+0THfkK+ubxpjvA0OMMecDjwPP9W6xREREpLNKq+p5crUbDi84vJhIf5QcHzNw+kwD3wWKgPW4oeyeB37Qm4USERGRzvvnit1U1wf49Omdf/BQJJIkJ8QMnKHxrLWNxpj7cX2mLbDVdmaeUREREel1NfUB/rFsF2dNy2DW6JRwF0ekW5LiB1CfaWPMB4E7gBzAAJOMMTdba1/o7cKJiIhIxzz9Xh7FFbV8/qzJ4S6KSLclJ8QOqNE8fgeca63dAWCMmQL8F1AwLSIiEgECjZa73srluDGpLPBTgov0Z0l+aLxAoyU6wkeU6Uif6fJgIO3lAuW9VB4RERHppFc2HWBncSWfP3sKwdG3RPqzFD+leGVd5LdOt9kybYz5sP9zlTHmeeAxXJ/pq3CzIIqIiEiYWWu5/c1cxo8YykVzRoa7OCI9InRK8ZSE2DCX5tiO1c3jspC/C4Cz/d9FwJBeK5GIiIh02Ls7S3h/72F+duWciP85XKSjkn0A3R9G9GgzmLbWfrovCyIiIiKdd8ebOaQlxnHVSWPDXRSRHpOUEGyZjvyxpjsymsck4MvAxNDlrbWX916xREREpD1bDpTx+tYivnH+NBJio8NdHJEekxwMpvvBiB4dGc3j38A9uFkPG3u1NCIiItJhd72Vy5DYaK5bMCHcRRHpUckhfaYjXUeC6Rpr7Z97vSQiIiLSYfsPV/Ps2v1ct2ACw4Zq6nAZWAZEn+kQfzLG/Ah4GagNJlpr1/RaqUREROSY7l26EwvceIamDpeBZ0D1mQaOA64DFtLczcP6/4uIiEgfa2y0PL56HxfPGcnY4UPDXRyRHpcYF40x9ItZEDsSTF8FTLbW1vV2YURERKR9WwvKKa2uZ+GMzHAXRaRXGGNIio/pF32mOzID4gZgWC+XQ0RERDro3Z0lAHxg4ogwl0Sk96QkxPaLYLojLdPDgC3GmJUc2WdaQ+OJiIiEwbu7ShidmsDY4ZpDTQYu1zI9MPpM/6jXSyEiIiIdYq3l3Z0lnDYlDWM046EMXMkJMQOjz7S19s2+KIiIiIi0b/fBKorKazl5krp4yMCWlBDDwYrIf2Sv3T7TxphyY0yZf9UYYwLGmLK+KJyIiIgcKdhf+mT1l5YBLjkhdsC0TCcH/zbu96QrgFN7s1AiIiLSund3lTAiMY6pmUnhLopIr+ovfaY7MppHE+v8G7iwd4ojIiIix/LuzhLmTxiu/tIy4KUk9I+h8dptmTbGfDjkv1HAfKCm10okIiIirTpQWsOekiquXzAh3EUR6XXJCTHUNjRS19BIXEyn2n/7VEdG87gs5O8GYBeuq4eIiIj0oXd3+f7SevhQBoGkeBemVtQ2MCImLsylaVtH+kx/ui8KIiIiIse2cmcJiXHRzBqVEu6iiPS65IRYAMpr6hmR2A+DaWPM/x7jc9Za+7NeKI+IiIi0YeWuEk6cMJyY6Mj9yVukpyQluDA10vtNH+tqrGzlBXAj8J1eLpeIiIiEOFxVx5YD5ZyiLh4ySCT3k2C6zZZpa+3vgn8bY5KBrwKfBh4BftfW50RERKTnrdp1CIAPaHxpGSSS4103j0gfa/qYfaaNMSOArwOfBO4HTrTWHuqLgomIiEizd3eVEBcdxdxxw8JdFJE+0dwyHdljTR+rz/RvgA8DdwHHWWsr+qxUIiIicoR3d5Ywd1wqCbHR4S6KSJ8I9pmO9JbpY/WZ/gYwGvgBsD9kSvFyTScuIiLSd6rqGtiQV6oh8WRQGQh9pvWosIiISAR4b89hGhqt+kvLoBIfE01cdFTEB9MKmEVERCLcip0lRBk4acLwcBdFpE8lJ8REfJ9pBdMiIiIRbuXOEmaNTmmaxEJksEhKiOnXfaZFREQkzOoaGlmz5xAnT0wLd1FE+pxrmR6kwbQx5l5jTKExZkNI2ghjzCvGmO3+3+E+3Rhj/myM2WGMWWeMObG3yiUiItKfrM8rpbahkZMnqYuHDD5J8TFUDNZgGrgPuKhF2neBxdbabGCx/z/AxUC2f90E3N6L5RIREek33t1ZAmiyFhmckhNiKRusfaattW8BJS2Sr8BN/oL/98qQ9Aes8w4wzBgzqrfKJiIi0l8s2V5EdmYSaUnx4S6KSJ9Ljlef6ZayrLX5/u8DQJb/ewywN2S5fT7tKMaYm4wxq4wxq4qKinqvpCIiImFWXFHLO7kHuXjOyHAXRSQsBnWf6fZYay1gu/C5u6y186218zMyMnqhZCIiIpHhxQ0HaLRwyfH6sVYGp+BoHi5sjEx9HUwXBLtv+H8LfXoeMC5kubE+TUREZNB6fn0+kzMSmZ6VHO6iiIRFckIsgUZLdX0g3EVpU18H088CN/i/bwCeCUm/3o/qcSpQGtIdREREZNAJdvG49LhRGGPCXRyRsEiKd5N1R/KIHm1OJ95dxpiHgXOAdGPMPuBHwC+Bx4wxNwK7gY/5xZ8HLgF2AFXAp3urXCIiIv2BuniIuD7TAGU1DWSmhLkwbei1YNpae00bby1qZVkL3NJbZREREelv/rtOXTxEgsF0JI/ooRkQRUREIkxxRS0rdqqLh0hyQiwA5RE81rSCaRERkV6wZs8hbn5wFb9/ZRuNjZ0biUBdPEScQd1nWkREZDBas+cQf3p1O29uK2JoXDQvbSxgc34Zf7x6HonxHbvtqouHiBPs5hHJY02rZVpERKQHrNlziBvufZcP/+1t1u07zHcumsHK/zmPn1w+m8WbC/jI7W+z71BVu/kUlauLh0hQcrzv5hHBfabVMi0iItJNf38rl58/v5nhQ2P5zkUzuH7BhKZW6BtOm8ik9ERueWgNV962jDuvO4mTJoxoM68XN6qLh0hQUlPLtPpMi4iIDEjWWv61YjfzJwxn6XcW8oVzphzVneOsaRk8/cXTSYqP4Zq7VvDk6n1t5ve8uniINImOMgyNi47oPtMKpkVERLohp6iSXQeruGLe6GP2iZ6amcS/bzmdkyYM5xuPv893n1x3VGubuniIHC05IUZ9pkVERAaqxZsLAFg4M6vdZYcNjeOBG0/m82dP4bFVe7nwD2/x1raipvfVxUPkaEnxMRpnWkREZKBavKWQmaNSGDNsSIeWj42O4rsXz+DJL5zGkLhorr/33aZWanXxEDlackIsZeozLSIiMvAcrqpj9e5DLJqR2enPnjB+OP/9ypncfPZkHlu1lwv+8Ja6eIi0Qt08REREBqg3thYRaLQsmtn5YBogITaa7108kye/cBpD46KxwAePH92zhRTp55ITIrubh4bGExER6aJXNxeQnhTP3LHDupVPsJV6b0kV2eriIXKEpPgYDY0nIiIy0NQHGnlzWxELZ2QQFdX9bhkJsdEKpEVakZwQq6HxREREBpqVO0sor2lgUQdG8RCRrkuKj6GyLkCg0Ya7KK1SMC0iItIFi7cUEhcTxRlT08NdFJEBLdnPghip/aYVTIuIiHSStZbFmwtYMDntmBO1iEj3JUf4lOIKpkVERDopOOvheV0cxUNEOi45IRZQy7SIiMiA0ZlZD0Wke5Ligy3TCqZFREQGhMWbOzfroYh0XVOfaQXTIiIi/d+hyjpW7S5RFw+RPhIMpiN1SnEF0yIiIp3w5rYiGi0aEk+kj6jPtIiIyAASnPXw+DGp4S6KyKCgPtMiIiIDRE/Peigi7RsaF02UUZ9pERGRfu/tnIOa9VCkjxljSIqP0TjTIiIi/Vmg0fKrF7YwKjWBs7Izwl0ckUElOSGWcvWZFhER6b/+tWI3m/LL+OGlsxgSFx3u4ogMKskJMeozLSIi0l8VV9Tym5e2csbUdC6eMzLcxREZdJITYtRnWkREpL/65QtbqKkP8OPLZ2OMHjwU6WtJ8TGU16rPtIiISMRpbLTHfH/17hKeWL2Pz545mamZSX1UKhEJlZwQq5ZpERGRSPTxv7/DxX9awoa80qPeawg08sN/b2R0agJfXjg1DKUTEYAk9ZkWERGJPLsPVvLuzhK2F5RzxW3L+P3LW6lraGx6/18r9rApv4wfXDqLoXExYSypyOCWnBCj0TxEREQizUsbDwDw71tO54q5o/nzazu4/K9L2ZBXSlF5Lb99eStnZuuhQ5FwS46Poa6hkdqGQLiLchR9zRYRkYhXXFFLbFQUqUNjezTflzYWMGtUCnPGpPL7q+dxyXGj+N7T67nitmVkZybpoUORCJGc4K79ipoG4pMia2hKtUyLiEjE++TfV3DTg6t6NM/C8hrW7DnEhbObW53Pm5XFK187iyvmjWbLgXI+d+ZkpmTooUORcEuKd+2/kdhvWi3TIiIS0XKLKthaUA7AhrxS5oxJ7ZF8X9lUgLVw4ZwjpwYfNjSO339sHl9emM2EEUN7ZF0i0j3JCS5krYjAftNqmRYRkYj22pZCAOJiorj/7V09lu9LGwuYkDaU6VnJrb4/KT2RqCh17xCJBEk+mC6ribyxphVMi4hIRHt1cwHTs5K56qSxPPP+fg5W1HY7z7KaepbnFHPh7JHqDy3SD6SE9JmONAqmRUQkYpVW1bNy1yEWzczkU6dNpK6hkUdW7u12vq9vKaQ+YLlwdlb7C4tI2EVyn2kF0yIiErHe2FZIoNGyaGYW2VnJnDE1nX++s5v6QGP7Hz6GlzYeICM5nhPGDe+hkopIb1Kf6RaMMbuMMeuNMWuNMat82ghjzCvGmO3+X9VwIiKD3OLNhaQlxjFv3DAAPnXaRPJLa3h5Y0GX86ypD/DG1iLOn5WlPtEi/USwz3S5+kwf4Vxr7Txr7Xz//+8Ci6212cBi/38RERmk6gONvLG1kHNnZBLtg95zZ2QybsQQ7nt7Z5fzXbajmKq6wBFD4olIZIuPiSYuJioiZ0GMpG4eVwD3+7/vB64MX1FERCTcVu8+RFlNA4tmZDalRUcZblgwkZW7DrEhr7RL+b608QDJ8TEsmJzWU0UVkT6QHB+jPtMhLPCyMWa1MeYmn5Zlrc33fx8AWn0qxBhzkzFmlTFmVVFRUV+UVUREwmDx5gLioqM4c1rGEelXzR/HkNjoLg2T1xBo5NXNrrU7LiaS2pNEpD3JCTEazSPEGdbaE4GLgVuMMWeFvmmttbiA+yjW2rustfOttfMzMjJaW0RERAaAxZsLOWXyiKan+INSh8TykZPGdGmYvFW7D1FSWacuHiL9UFJCjPpMB1lr8/y/hcDTwMlAgTFmFID/tzAcZRMRGajKa+r5yXMb+cULm7s9GkZ37TtUxdceXcv+w9Wtvp9bVEFucSXnzWx96LobFnRtmLyXNh4gLiaKc6arMUakv0mOj9VoHgDGmERjTHLwb+ACYAPwLHCDX+wG4Jm+LpuIyEC1dHsxF/1xCfe9vYs738zlU/94l8NVdWErz+1v5PD0e3l8+eH3Wg3sF2927SmLZmYe9R5AdlYyZ2Z3bpg8ay0vbyzgzKnpJLZo7RaRyOdaphVMg+sLvdQY8z7wLvBfa+2LwC+B840x24Hz/P9FRKQbymvq+d5T67n2nhXEx0bxxOdP4zcfPZ53d5Zw5W3LyCmq6PMylVbX89SaPKZmJrF69yF++/LWo5Z5dXMBM0YmM3b40DbzuWGBGybvR89upLgD3T027i8j73C1uniI9FPJERpM9/lXc2ttLjC3lfSDwKK+Lo+IyEC1dHsx33lyHfml1dx81mS+dv40EmKjOWnCcCalJ3Lzg6u58rZl3PaJEzlrWt91e3h81V6q6wP88ep5PPTuHu58M5dTJo1g4QzXpaO0qp5Vuw9x81mTj5nPuTMyuebkcTzy7h6eWrOP6xdM5KazJpOeFH/EciWVdby88QAPvbuHKNN2a7eIRDY3mkfk9ZnW71wiIgNMeU09//f8Fh5+dw+TMxJ54gunceL4I+fBmj9xBP++5XQ+98AqPn3fSv730llcv2ACxvTuJCaBRsv9y3dx8sQRzBmTyv9eOov39hzm64+9z/NfOZPRw4YcMevhsURHGX7x4eP53JmT+etrO7h7SS4PLN/F9Qsm8rH541i1q4T/rs/n7ZyDBBotE9KG8tMr5pDWItgWkf4hOcH1mbbW9npd1RnGDZzRP82fP9+uWrUq3MUQEYkYS7YX8d0n15NfWs3nzmxujW5LRW0Dtz7yHq/6PsodvT9NSk/koc+eysjUhE6V75VNBXzugVX87ZMncslxowDYWVzJpX9ewoxRKTxy06l847H3WbajmHf/57ymyVo6Ireogr++toN/r82j0d/aJqYN5ZLjRnHJcaOYPTolom7AItI5d7yZwy9f2MLGn1wYlucejDGrQyYbbKKWaRGRfqIh0EiUMa1Oge1aozfz8Lt722yNbk1SfAx3Xjefx1btJb+NkTVaCljLfct28Zn7VvL45xd06qZ2/9u7GJWawAWzmludJ6Un8ouPHM9XHn6PX76whTe2FnLB7JGdCqQBJmck8fur5/GlhVN5Y2sRJ08aoQBaZABJ9lOKV9Q2RNRDxJFTEhERadOGvFI+9Y+VVNTWMzUziezMZLKz3L+BRstPn9vIgbKaI/pGd1R0lOGak8d3qjzzJ47gxvtW8pWH3+Ou6+d3KPDdXlDO0h3FfOvC6cREH/n8++VzR7Mi9yD3LHXThJ/XjX7NkzOSmJyR1OXPi0hkOnH8cL538YxO1W99QcG0iEiE25BXyifvXkFSfAyXz53AjqIK3sk9yNPv5TUt05nW6J5w7vRMfnLFHH747w387D+b+PHls9v9zH1v7yIuJqrNwP2Hl85izZ7D5BRVcEa2xoEWkSPNHJXCzFEp4S7GURRMi4j0gdyiilaHdBo+NI7xaW0P/xYaSD9y06mMG9G8bFlNPTsKKygsq+Wc6Rl93lpz3akT2FVcyT1LdzIxbSifOn1Sm8uWVrnh8K6cN5oRiXGtLpMQG82DN57MnpKqo2Y9FBGJVKqtRES8vSVVjBk2pNU+yd3xl8Xb+d0r29p8/7yZWdx6XjZzxqQekX6sQBogJSG2z1qi2/L9S2ayp6SKn/5nE+NGDG1zBI7HV7vh8G44beIx80tPij9qaDsRkUim0TxERIDlOQe55u/v8JETx/Lrjx7f6Yff2hIMpC+fO5orTxh91Pvr95Vxz9Jcymoajgiq2wukI0lVXQNX3/kOOUUVPPCZk5k/ccQR7wcaLef89nVGpQzhsc8vCFMpRUS6R6N5iIgcw+1v5hAXE8WTa/YB9EhAHQykP3TCGH571dxW81s4I4tPnzGR+5ft4u9Lcrn0LwUsnJHJ6t2H+kUgDTA0LoZ7bpjPlbct46N3LGdaVhKXHDeKDx43iuysZF7bUsjekmq+d/HMcBdVRKTHqWVaRAa9TfvLuOTPS/jWhdMJNFp+/8o2PnziGH7z0dYD4OBnDlXVcfKkEcS2GJkCOhZIt1RWU98UVCcnxPaLQDpUSWUd/1m3n/+sy2flrhKshezMJAKNlur6AEu+fe5Ro3iIiPQXapkWEWnDXW/lkBgXzbWnTCB1aCwAv/d9nFsG1Ov3lfKnxduaJjkZNjSWC2Zl8cHjR3PalDRio6O6FEiD6wP95UXZfPbMyTRaG1HjqHbEiMQ4rl8wkesXTKSwrIYXNx5oCqz/55KZCqRFZEDqXzW1iEgP21tSxXPr8vn0aRObAumvLMoGjgyoN+0vawqiU4fE8s0LpjEtK5kXNhzg+fUHeGzVPoYNjeX4scN4a1tRpwPpUEPiImsM1a7ITEloCqyr6hoYEmHjwoqI9BQF0yIyYG3OL6OovJazprU9ZvE9S3digM+cceSwbqEB9do9h8ktrmwKom84bSLJCS7wvmD2SGrqAyzZXszz6/N5ZVMBHz1pLL/6SM89xNjfDY3TrUZEBi7VcCIyIDU2Wr700Bpyiyu589qTuGD2yKOWOVRZx6Mr93LFvDGMHjbkqPe/siib6CjD/W/vOiqIDpUQG835s7I4f1YW1lpNXy0iMogomBaRAWnpjmJyiioZkRjHVx9Zy6M3n8rxY4cdscyD7+ymuj7ATWdNbjOfW86dyi3nTu3wehVIi4gMLnoaREQGpPvf3kV6UjzPffkMRiTGceP9q8g7XN30fk19gPve3sXCGZlMH5kcxpKKiEh/pmBaRAacXcWVvLa1kE+cMp4xw4bwj09/gJq6ADfet5LymnoAHl+9j5LKOm4+Rqu0iIhIexRMi/Qjew5WcfsbOXz54fcoLK8Jd3G6zVrLA8t38eNnN1JaVd9j+T6wfDfRxnDtKeMBmJaVzN+uPZHthRXc8tB71DYE+PtbuZwwfhgnTxrRTm4iIiJtU59pkQi352AV/12fz3/X72dDXhkAMVGG3QcrefSmBf12GLXahgA/eHoDj692Mw4+vz6fX3z4OBbNzOpWvhW1DTy+ai8fPH4UmSkJTelnZmfw/66cw/eeWs9Hb1/OnpIqvn/JTPVxFhGRblHLtEiEKq2u52N3LOes37zOr17cQnRUFN+/ZAZLvn0ud1x7EhvySrn10fcINLY9i2lFbQPffXId/3xnd4+Xr6Y+wDcee5/vP72evSVVnfrswYparr17BY+v3sdXFk7luS8192v++mNru9VK/dSafZTXNvCp0yYe9d41J4/n82dPYX1eKZPTEzl/VvcCdxEREbVMi0Qgay3feWIda/Yc4jsXzeDS40cdMa30uBFD+eGls/jJc5v45Qub+Z8Pzjoqj70lVXzugVVsOVBO0rp8Lps7mtQhRw/r1hU19QFufnA1b24rIi46isdW7uWq+WP54jlT253+euuBcm68fyWF5bX86ePzuGLeGACe/dIZ/PW17dz2Rg5Ltxfziw8fx2lT0skpqmB7YTnbCirYXlBBYXkNX12U3WoLdmOj5f63dzF33DBOGD+81fV/+8LpJMZFc8rkNI0DLSIi3aZgWiQC3f/2Ll7ceID/uWQmn2vjAblPnz6JXcWV/H3JTiakJXLtqROa3lu1q4SbH1xNXaCRH3xwJv/vv5t5aMUevnDOlG6XLTSQ/tVHjuOsaRnc8UYOD7+7l8dX7TtmUL14cwFfefg9hsbH8NjNC5g3bljTe3ExUXz9gulcMHsk33z8fW68fxXGgPUN7zFRhknpidQFGvn8P1dz+ydP4rwWLcvB4fD+cPXcNssfFWX4sp+QRUREpLuMtW3/RBzp5s+fb1etWhXuYoj0qHX7DvOR29/m7GkZ/P36+cfs09sQaOQmH9jec8N8zpmeyROr9/H9p9YzZvgQ7r5hPlMykrjunhVsOVDOkm+fS0I3pnVuGUhf/YHxTe/ll1Y3BdUNjY2tTh9dWRdgzpgU/n79fEalHj1JSlBdQyMPvrObsup6pmUlMy0riQlpicTFRFFaXc/196xgU34Zf/vkSUd01fjMfStZt6+UZd89l/iY/tmXXEREIpMxZrW1dv5R6QqmRSJHaXU9l/5lCY2N8N+vnMGwoXHtfqaitoGr7ljO3pIqLj1+FI+s3MvpU9O47RMnNn1+2Y5iPnn3Cn754eP4+Mnj28mxdTX1AW56cDVvtRJIh8ovrebRlXupqGk46r3hiXF8+vSJ3Z5eurWAeldxJef+7g2+sjCbr50/rVv5i4iItKRgWqSPWGu5/c0cbn8jh7ljh3HJcaO4cHYWaUnx7X7u8/9czeLNhTx68wJOmtB6n9/W5JdWc+Vtyygoq+XaU8fzo8tmExvd/HyxtZbL/rqUqtoAr379bKI62Ve4o4F0Xyqtruf6e99l0/5S/vbJk1iec5AH39nFsu8sPGIUDxERkZ6gYFqkD9TUB/j+U+t56r08FkxO40BZDTuLK4mOMpw6eQQfPG40583MbDXY+8eynfzkuU3H7Cd9LLuKK9leWNHmCBX/WbefLz30HndedxIXzh55zHy2HChzD/wVVrC9oJzcokrqAo0RE0gHhQbUMVFRXDA7iz99/IRwF0tERAYgBdMivayovJabH1zFmj2H+fr50/jywqkAbM4v57/r9/P8+gPsLK4EYERiHFMzk5iWlUR2ZjLJCTF858l1Heon3VUNgUYW/u5N0pLieOoLpx21Dmstv3pxK3e8mdOUNnb4EKZlJZOdmcRZ0zI4fWp6j5eru4IB9ft7D/P0F09rcxQPERGR7lAwLYNaUXktw4bGHtH1oSdt2l/GZ+9fSUlVHb//2DwuOW7UUctYa9mcX87y3IPs8EO9bSsop9z3LR4zbEiH+0l31YPLd/HDZzby2M0Ljpj5z1rLL1/cwp1v5nL1/HF88tTxTMlIIjG+fwz4U1nbwJYD5Z3qGiMiItIZbQXT/eNOGUGstSzZXswJ44eRnNAzY/ZK79pRWM6lf1nKzFEp3HndSWQm91x/2sZGywsbDvCtJ94nJSGWx28+jePGpra6rDGGWaNTmDU6pSnNWktheS3bCyqYmD60VwNpgI+eNI4/vLqdO9/MaQqmQwPpa08dz08vn9PpPtXhlhgfo0BaRETCQjMgdtK2ggquv/ddHlje8zPKSc9rCDTyjcfXERcdxZb8cq786zI27i895mcOVdaxIvcghWU1tPbLTWOjZfXuEn763CZO/9Vr3PLQGrIzk3jmS6e3GUi3xRhDVkoCZ2SnM3b4sSc76QlD4qL51GkTWbylkG0F5QMikBYREQkntUx30vSRySyckcnfl+Ry/YIJap2OcH9fspP39x7mz9ecwOT0RD73wCo+evty/nD1XC6ac2RXjEOVddy9NJf7lu2isi4AQOqQWLIzk8j2/Yb3HarmhQ355JfWEBcdxVnTMvj2RdO5eM6obo3f3JeuO3UCt7+Rw51v5pKeHKdAWkREpBvUZ7oL3t97mCtuW8a3LpzOLedO7fP1S8dsLyjng39eysIZmdx+7YkYYygsr+GmB1azdu9hvnnBNG45dyqHq+qbguiq+gAfPG4UV84bw75DVX40iwq2FZZzuKq+KYD+4PEjWTQzi5R++mXqx89u5L63dwEokBYREekA9ZnuQXPHDVPrdIRrCDTyzSfWkRgfzc+unNM0ckVmcgKP3HQq331yHb99eRtvbS9mY15pUxD9lUXZTMtKPio/ay3FFXUMiYsmqZ88lHcsnz1zEk+u2ceHThjDjy+brUBaRESki/p/VBAmX12UzRW3LeOB5bvVOh2BQrt3ZCQfOVlKQmw0f7h6HtlZyfzhlW1cfNwovrJwKtmtBNFBxpij8unPxg4fyqofnKcpt0VERLpJwXQXqXW6Z+0+WMnrWwqZNTr1iCHbumJ7QTl/eGUbF80eyWXHHz1EHbjg+JZzp3LTWZN7bbi8SKdAWkREpPsUTHeDWqe7Z/fBSv67Pp/n1+ezIa+sKX3B5DRuPS+bUyandTrPhkAj33z8/aO6d7RlsAbSIiIi0jMUTHfD3HHDWDQjk7veGnyt09ZaCspq2VZQzvbCCvaWVDEqNcHNlpeVxOjUIUf0w62uC5BTVMF2P1nJku1FTQH03HHD+P4lM1g0M4s3thZxx5s5XH3XOx0OqqvrAuwodHm/ua2I9/eV8pdWuneIiIiI9DSN5tFN6/Yd5vK/LuObF0zjSwuzezx/ay0vbypg9e5DfPSksa0+HNdX9h+u5t6lO1mz5xDbCyuaZu4DGBoXTZUfTi74/+zMJEYkxpFbXMmekiqCp1pstGHOmFQumTOKi48bedT4yjX1Af61Yg93vJlDUXkt8ycMZ8zwIUeVp7ymgR2FFew9dGTeV39gHD+7ov1WaREREZGO6jfTiRtjLgL+BEQDd1trf9nWspEQTAPceN9KVu0+xNLvnNtjrdPBIPpPr25nU75rwTUGLjluFF9ZmM30kX0XVO8/XM3f3tjBYyv3YbGcMH4407KSXCt0pmuJTk+K53BVXfNQcgXl7CisoLiilikZSWQ3LZ/ExPTEDnWvqKkP8NCKPTy2ai819YGj3k+IjWZqZhLZmclMy3JjQU9IG6quGyIiItLj+kUwbYyJBrYB5wP7gJXANdbaTa0tHynBdE+2TrcMoiemDeXLC7M5a1oG9729s2ks5I4E1aVV9WwrLHddMQpcV4ys1ASmBSchyUoiIym+zRbcYBD96Mq9AFw1fxxfPGdKn8zUJyIiIhJJ+kswvQD4sbX2Qv//7wFYa3/R2vKREkyDa51ennuw2y3Ghyrr2HWwiknpiXx54VQunzuamJCW1kOVddyzdCf/WLaTyroAx41JJSb6yGC40bpAuKi8tiltaFw040cMZf/haspCumcMGxrL+BFDiW4xzrC1NE27rSBaREREBrv+Ekx/FLjIWvtZ///rgFOstV9qbflICqa3F5Tzixe2UB9o7FY+MVGGy+aOPiqIbulQZR3/WLaT9/YebvX9zOSEpq4YUzOTGDPMPRBoraWovJZtBc0PA+Ydrqa182ByeiKfO2uygmgREREZ9AZMMG2MuQm4CWD8+PEn7d69OyxlFREREZHBo61gOtKe1MoDxoX8f6xPa2KtvctaO99aOz8jI6NPCyciIiIiEirSgumVQLYxZpIxJg74OPBsmMskIiIiItKqiJq0xVrbYIz5EvASbmi8e621G8NcLBERERGRVkVUMA1grX0eeD7c5RARERERaU+kdfMQEREREek3FEyLiIiIiHSRgmkRERERkS5SMC0iIiIi0kUKpkVEREREukjBtIiIiIhIFymYFhERERHpIgXTIiIiIiJdpGBaRERERKSLjLU23GXoMmNMEbA7TKtPB4o7kNZT6cq7d/KO9PIpb+Ud7rwjvXzKW3mHO+9IL99gybsvTLDWZhyVaq3VqwsvYFVH0noqXXn3Tt6RXj7lrbzDnXekl095K+9w5x3p5RsseYfzpW4eIiIiIiJdpGBaRERERKSLFEx33V0dTOupdOUduXkob+U9kPOO9PIpb+Ud7rwjvXyDJe+w6dcPIIqIiIiIhJNapkVEREREuircT0BG+gu4FygENoSkzfVpDUAZkOLTnwYCQCNQAXzIL1sMWP+qBW736RUh6buBnwD/DUmrAx4HPgAUhaQXA2uBy/0y1q93B7AF+Jkvg/X/HgT+CCwLySPg854LHApJrwGeAm4G6kPSq/02fjkkbws85tNb5v08cEJI3gHgMLCzlbxz/PZ8s0X6XuAjwFdarLO0le1pAFYBZwMlrWzPJ1vkfQD4LvBGi3J/wu+Twy3yuLuVPPb6Y9YyfY3fJy3zzvF5tyzfXuBHfhuC6btw59YD/rPB9LeBBI481yzuvAmel8H0xhbpwWUP+PJdQPP5Y4H/+PRnQz5vgcUcec5X+HVsCkkP5rHfH4e5uHM2mEchsAB4hebzMrj9vw4pd/D1Hu78Dj3uJcCtwMUhaRbYCBjgpRbp9/hyHAxJq/Z5X9xK3ncAL4eUr96nt7yGq/3/P86R19lh3PX3qxblqMadr6HlC+CO+9kh2x7cH0W4az70PKkFbvNlqW6x7QnAcyFlCYTkEXpsavy+OCUk7wDuPNvo8z7imgfG4c61hpDla4Bvt8i72i/zcItyV/t9+jOOPL8tMA93roTuEwt8DHeNh6Y3An9qUT6Lq5+/1+JYWuDEkLwbQz7XMu/gvrwrZJlgXjuBR1rJ+19tlPtGjrzOaoE3gZNaHLMSXN1zUot98mN//bU8T17g6OusFnddhuYdAPKB//j00HLn+byf4ejz5DqOvEZq/Ou3Lcpd4I9vy3PtTo6uY2qBJ1vZ9uB95HSOrNceCylf6LYH7yPBvAP++O1sJe/gfeT8FunB+8hHWuyT4HV5AkfX6+nAHI6sH1fjroclIcetEfg/v2zLev1En14bkl4EXO3LGFqW10Lyrqe5/n2qlbzrcOfVHL+e0PNqE+4+Gpp3A+7cXBKyzxuBJ3weoddDmS/fZRx5PRTjztnLOLLO+64v97oW6/tuG3n/pEXetUAe8CpHXlP1uHp6BO4+H9zOImAzru59z5chzx/3Mtz94Wu4+mwD7nxN6JNYMdzBaqS/gLP8RREaTK/EBZUnAvuAn/n0HNyFuBF3synxy/4RFyzn4W7YdcB2/9lzcIFdCbDCpx3CBSWL/cWRC3wDd6MuA1b69a0G/gC85fP8Ge7Xhvd9+s9xgU++347dPu/NwA/9Z4I3/y24CusOf+LuBn4A3OBPYOvXuQkXpJyIq1wbcIHJTuB//An8Q38x5Pi8L8BV1tt9+kaf9yqfXubz3oirVO72eZfhKrXg8sF1Bvz27ATKQ7YneGH+0G/zfr8fqoFt/kLb67ez0u+nnbibxg7/mUp/zH4MXOuPx1/9dm70eZwesuwKv+9uBX5Hc1ARA2yl+eL/Wkje38Dd8A758hXiKoNb/TYG8z7gP3sQF4jm+7w/gzsn9vl9FNyP64Cv+m2s8cdqP7Aed76u8unlfn+v9cfnVV/uSmCWX+ctuIpwFS5I3ETzOV/n39tE87VQ7V+vhFwjK/wyVbhzeZjP+7P+8yv9MXsfd3zzfB6bfNmCx2qHf+//+bJu8Z+7we+DHbhzcIdffovfzp/5dfw///l9uGtiid9/+4EzffrPcDf/A/7/e4B3fH4rcV92qv3/g9f7+z6PO/1xCF5/G316sH4IXn85/vht9sfwbV+u7+GuiyKfxyO4cycPd80U4s7RF3DncSHuC2mjT4/2ywf31ef8eoPn/A7cdfMzXCCU4/O+GnfebMJdtyv9fvue/3ww783+eJX4cv8WdyO71a8jmPdav+/z/PL7/bK/8fugBFjol68FFvm8d/oyBeuNbbhz6gb/uWBdErx2bvJ5lPhjuQ34Fs31Qx3uZhs81/b4Y9VA8/m6iub6Lick/U7cdVDij+V7NJ/3wfruLJ93Gc11T7Xf7of93/uBX+Dq3wJcXb3X/33Y7/O9/rh9wm/jYWCi3+YN/vVVXH23FbgPd/7vw123tbjzdbUvX6nf9sV+m2r9/s4LyTsPd57lAZ/36Rt83i/5vH/p15mHq1Py/PYcxtVb5X4fbcTVa7V+ucdwdVohri4s9X8v98eyAHfORvljspHm+q4WuMRvz/KQba/22/IYLtA+6Pd5Ne4etdwfy2KfT5RP34u7j+T7V4bftqX+2v02Lji7Hnf/rMfda37ly3ib3x/1/rN3+fSv4RpJ6oDxfhsbgL/78r0L/NN/bp3fX/uAbJ9Hg9//L+EaTAzwD1+WD/njuxX4m19HpS/LM/6z/4s774J57/Ll+a9/fz7uC0gw7wd83hfgzvEqINUfyzrcF+UXcXX1W/799cCDwKP+eL6Fux624OrI13AxQJlPP8uX7xHctV7p83/I75ezcMF/lS/3cz7vn9Ncl7/t08qAv+Cum7txDS0/89u6xa87DpiKayz4Oe7LQzTu3DkZV58M8cf5MeBTfRErqptHO6y1wRMp1DRcgFWCO+gf8eljcCeQxVWqccBMXCXyCK4SOovmiu023El/2C87DBiOqyjAXYTjgCzg9zRfAFP8+1OBrwPH4U7Uj1hrG33eX8ddCAFcJbEESMNV4gFc5RkDTMIF+7E0XxgNwCjcifomrgLDGBPvt/GzftlDuMprIu4b5L98uf7p8x6F+4a6DxiCu7gNMNbn3eD3SaLPeyyu0vmdzzvRvx9cvgR3oUbhLv4Rfn9E+e2J9Wkv4oKlMuBSv8wE/5lcn2c87kIbhTuWAb8P43HH9yfAUtzxvdCXdSKudSwvZNlYX74ngFND9gnASFxFgV93MO+7cS05Bb581h+HP/ltrMK1Nub4/V3lX9U+7/24c2Knz/8tn3c2rjIv88tn4AKcbNzNZXVI3vh1LvfrqcRVSGOA0bibQR2ukkvE3Tj+Cpznj6H1eUzzedf7vI8PSZ+IO++qgDnW2sM+7yif9x6f10TcDWUILpjLwF0Paf7/q/0x+zDufJzk1/GmPz4JwJVApt//Dbjj+ZGQ/V1B869Fa3w5SnzZg9dwHO5GU+3X/X0gxedxv9/mKpqv90k+j8twFXnw+hvn00v8dgavv0z/uShcC/0M3PVe5ct90Of9X2CyPzZRPp9LcDfGSbiW3pd8XpdYawO4czDYgvOi35djcYHmep9/aD31uk8f4rcb3BepUlwgUxGS93jceZ7vy32JL982XEB0CLjG77NxuJt7g9+PlwDJfjvfw11/MX6/fMSXpdEvm+n/nYA719705YnB1Z/TcPXgyz4t4I/lWFzQXuLTg61bo3Hnb5rfJmiuuxtoPpaPhKRfhrumAv5YTqa5ro/Hna9LaL5Gomg+rsP9eqpoPl/L/fqrcddrmd/nT+Cu4W24+rHRp5fhzsEDPs/XaK4zg8e8EnceW9w9Y7//bKxfNlh/B391qArJeziQ5I/ZMp8+3ucd7fP+pD8+w3F1lMGdV8F1DMGdO9ZvhwGm+8/W+X11Me7aSsMFhm/6dRpcwJeFC9pLcMc4CtdIMRxXL4P7hSwWd44U4Y5lsAwBfwz+RvOvZSk+75HAUJoD+hTcdZOB+7IE7osy/r3j/fYl4u6F+HKcBuRYa4twX6YBLsIFce9Ya/fgrlGDO2/KcI0jT/m04bgv6z+31m73eUT5/bQA+JVvofqNzzvLl/8p3H1sK65uu9DnHQzaQ/O+H3fOf9bnPcWXO5j3+pDtmeH3Yx0usI7Bte6/iwtW38WdA/twX3QfxNVJr/t9vgwXH3wSd15X+/R4n3ewwWgvrk45E/hfH0Ot9HkP8fv7VprrnuAXrHn+eFX7MlwIXOHLMduXcY61ts5au8NauxJ3DeLLG2wkiAGGGGNicOfBfvqAgumu2Yg7yOAqvnH+70O4GyfAVbgTJQ84A3cjSsVVXENxJ10mzRdAIu4b9/u44GgkrsUiwacF1zccGGaM+aEvxyd8eiIw3RjzOK6CDi4/BNeqbP3yM3EXwP/z71f6PILlm4T7BlgRkkcWLpPaFts+kuaf1zfivv1O8J+3uEDuClxrUi3uhlDTIo+xfh98239uiF9+qs97WIvlR/ntCZblMb/sVr/8e7gb43SfPhX3BaIS+ALugp2Euwj34I7ZTbiALpgeXN88f2ym4iqPDbhvwS/jbrLRuOBiHa41YGxI+YIt2Um+LEtxlcZGXOtetS/nVP/5zSF5T6L5C9kGXMCwxqc3WmtfxLU2noy7GR2HO6cO437GzsRVmCk+7TDuxvUnXMUX7ffl5pD0If69FT79O7gg6It+v67DtWR+D1exJ7bIo8wfqwxjzE241qEUX5bhQLoxJjEk7yJcdwPj98mZ/hil4q6hGr9sFi5QnuyP0SV+uRhc0DnJLz8G14o70R+zIf7v4Hk5zqdPw12b2/2+/69Pm4k7xpt8nrG4LgRxIXnE487vmcaYu0PySPd5z/DX386QvMdD088623DnwDS/TCruGpmPO08m4c6Vb+POw4m4m+oUv/37fPpY3E3U+HRwLYCjfPne8Z/bjAsWLe4L1Uz/2Xz/78t++8aF5BGHO++mAdOMMQbX6hft88jxZdwWkvckX45cn8cYXBA22a9zFu78mevXm+qPzziavxCCC8hjccc3tH7Fl6llvTsUF8Rs9un3++2OxgV5G3HndjEuuItqkccY3LFL4ci6dBgwopW6NAV3/QXr0mDd80W/39biAomhfl9N8/u6zJfrZNyxtLhz56Bf1zP+89ZaW4Kr71NwAcpq3HHegLumg/VGNu5Ly3s+j9f8Pg3+RP6+/9xyX8Yon/d2XFA2yy8TjTvng3lP9cfoaf9+As33hTi/L/fj6sZo3C9YsbiAPcnv4+B9boIvy+f9siP8fhyHO5eD6Wm463mff33Sf3aTf3+335abcefKaL+tB30e+DIPxQV0+31Zvun391Bcl4N9wOd9kPVr/7nDfrvWh7wM7gtpAu48mOjzMD7fBGCLT5/l8xnuX8FAMhp3rSTSHNAGv4zhy19gjFmHO8bgzuNEXMD+R7+dBlcHDvf76CVfhsN+2Rr/9z/8sle2WOeH/L8HfLnfxl2bi3DnynDcveki/34szV/yE3DnbozP8x1cl9Z8n6fx6SuALJ8+DFcPJQDJ1tp8Y0w07peJOFxAnOqXvQgXqMf7bcjCnZufwp2HaT5tKO5+cR7uPnK3v5eE+jjwsLU2D/fFeg/u2iu11r5MH1Aw3TWfwVWgz9Hcygbu57XTcRdwMs0/Fx2HCxCjcSfZO7iby3m4ijTYgjUV+DPNLaHv4U74p/36Umn+9n+m/+xncSdwsM/mclxl8kXct78YXEUHzT+bZuNuHHW4IO0q3I0uzr9+g6tIv4i74Sa3su2v4Cr8amttrk+/luabYQOuRfA7Pv9G/97+kDwyfJ6lfntexF1Al/j0YL+94PIv+/1X4d+/CXcRNfhl63Dfrm+guT96ABeUrMV9Iw7gAugYX57FuC87NiT98359P6O5df8w7ufz83EVeolPP9Xvi+G4iqcMMMaYBF/u4M9Y9/r1/R0XlGb7PEtx58f7IXkfwp0rz+KO4Rm4LwslQJQx5tO4Cvigz+cDviwv425ECbiKLuD3U4nP91GaK3NwN6taXN/5BKDWWlsWkm5pbnn5BS4wiaa55Tc0j2BLRQ3uBlvm8zzOpwf71wWXn4QLtOv9fvo17nw46JePwwVEb+Mq0ijcDWijL1Opz7PSLxuDq4TX+HI14CrpL+POv100998fgjuWy2m+bhpxN4bnfdkDuJYYE5JHDi5YLMOd6//B/cQcDCasX/+ekLwBoo0xKbhrtcpv/91+m9bigqxY//9G3DVQggsAYmk+H07CXT8n+31lfd6LcIHdXL8fgvv7L7hz54M0/5I03u+LU3HXb4nPO9HnkeDLf9CX5xc0B3vQHITUheRd5tc3HHdjPdmvp8QfhxLccdyL+xk7CnfcA8BPcTffqf7/dTTXPc/5Y4i1dgPN9cCrvgyxuPrykz59DM197hf6sp6AuyEHfBmDeaTiztkA7stBsC4d5ffrYY6sS1/FnQuVft2hdU8xzXXPl0LKEKx79vl8q/x+jfXHb53f7kK/bKwxZrLfpok099lvxHWh+47f50W+fMGfz2fj6rvgl56hPo8yXP1TAsQYY67GHeMkn/dv/bHYEZL3Qb/9J+Na7LNp7o/b6Mt9m9+WGTQ/Q7MWd8xTcF9Q4nBfALbjAt0NNH8xCuCehwimj6C5v/fluEaaRNx5aHH12gm445tE8z3t5z6Pef7z9b5M//Trv5bmftbXh6yzzG9fwO+3Op8ebNVsxN2D8fvocdw52UhzS2gMrsvDrRxpCO5XzdA6EmNMEu4cA9eFENxxP83vI3DnehSuFfc23K/coa6l+RfAqT4tGnfvDJ77wQY6jDFTaL43BM/bSbh67Fq/XLQPNl/FfVmxuGs1KAp3P63C1e1Bsfhf1fw9I7iNV4eUMXSfBH/pnIe7h12Kq6cuxNWHDX7ZC/zfT9L8pSQG1x0o2A2tEncvCYrGHdvHjTHDcV9+J+G+jCQaY66lDyiY7gJr7RZr7QW4VpFS3MkJ7kb/jP//w7iTZCXugcNHcBXEftzJvRF3sQTzqMGdxJfgKo9CXKvIXmCSX9/FuJO01H92HO6mEWxVyMFd+FP98o/iLo5twXLjHkSoxz10ko+7+X8IV4km44K2KP+Zz+BO5Hx8YODz+AzuBlWJ//nUp38bd8P5oi/3ibifpmtxFWawC8odPg/j897mtyf4c2hNSPqJIescirvQtvj9PQR3I8CvMxeY5rf9HFyr1xq/v/biWqbX0xywneiPw/W41o+mQM7n8aGQY7Y3JP0yv2wVrjXhDJp/ekv0fz/ly/1xf1x+7Y/TXFzrQR7u5rfN/z07JO9g5ZKJa6H5N+68OEhz38Jsvz8b/PEKflHbT3N3lzi/rizcjWw4vnXEGPMln0cq7sufwd1wg+kpPs+5fv9+xpd/qC9XPK7V8SqfRzLNP9vl4c7NgC/TEF/GD4XkHfxJOg73pTL4BWyYT5sIXGytPdfv32D3nCjcz+yFfl8V+31Saa1dj2vdzMGd45W44T/P9/ss3u/D94EGn3cwj0rcF5Qz/Wejca03AHf5PC7AnUtbcQHpDL98Nc393NcBk33e36b5YeRpuGtpI+6c/T3u/JmL+/n3Gdz5+h6uzijFfZkK9rEtwN0Yd+Gu8eAXzgLcefweriU8WI8E+4n+CBeUHvLrfQN3k3nPl3u4z2ec3xeP+bwP+fWe6fNrwJ2rD/h9PyUk7yq/zx73y73m9/FBX779uOvyBFxXsBJcS9k2n3ewu9w/cYHitpBrweC7FIXUu2/69ZRYa//YIv0wLni9guauDrG48zAKuCOkLg3WP6F1aYPf9pZ16Tqf1za/v4bgvhiW+3Lv8sd4Ja4PdbDu2YwLAP9Mc3ebEtyvESm4c+RGn3cw/QxcfdGAa3EswV3PK3FfPg7jArAtuGtqKe7aHObLdjouYPsmR9ZVl+KCsGAL9d24wHJWSN7Brndv+X30OO68Oug/tw1XJwXrzhN82Zfg6pp9ftvX4rsVWmsn4OqK3b5826y1G336c74M1cF0v/2bfNnr/LY/4Lc7KBG4zucxw+cdbBgYTnOwH0wf6/Oe6st2KLhO3LW2x7/+4PfBONz1XOm3+ze483Aj7hq7EncuL/flCV4vv8Wd08FfYitx1/i/cddjA651OZj+pH814r6MBHCNApNwDV7Gf+Yw7lfBZ/0+rvOvVP+ZJ3weT/vl5+K+7Ae/BOT59Mm4bhOv+89VGWPG4b5cL8UdZ+P/rced0xv958cCZX75D/r9kOe3vwB3nsTi6tE8XMv7OL99W/1+ft1/7iJfxhH+Mwv9eu/CXSdb/DZX++3c5z9f4bf1RJrNwD30X4C7l+y01hZZa+txXWZOow8omO4CY0xm8E/cBXKH//9Smm8Av8SdBDtxF8DncDfov+ICikdwLSrpuGCnDlfh7MBVUAZXsR4A9vqfpkbggpaNuIpxt//JcRMuyLmD5r5D+HxssHzGmKm4SqkAVxlE4062appbb36LCy7fxV0cv6a5JSOYx2pfzoaQvI8PyfuDuItxH+5LRRGucvs+rvL6rM/7bz7vv/vtKcBVQs/49NXAJr/O/+IC96Z14i7CeT7/S3A3iF3GmGCrZwausp6Cu8EHu0oEb7Ln+O0IdnsI7oMKn8ev/Xt/wV2wqcaYkbibYHDZuX4dE3GBRzAQvt4Yc4ZflpC8NuBuxPtxLTCP4yqsPH+Mg+dUHe4GPRRX0Q3x64zy++UjuIBhm9/PFbjWq/m4YKcK18p6GLjSWhssXz3up6+/+jzewgUTtcCTPv0mvz+3+TKUAE9Ya8fR3KK+DBcoTMG1jF3ky/wM7qb+bZofPKrzy77g13kGzQ/GPol/SMTvk0rcsd4CvOV/IgxeI9Z/djHuBhxsdYwBHjXGzKS5Tovzx6fMGJOBCyyG4G6W2TS3FmeGHMsTcEHBAr/ta336Nf64p/tj8zQuoNjp17eY5pahicAeX+7LaW4Zy/Xrz8adB7/0n92Ku7nO9mX5J+7G8hDuxl+JO1/LcC2oj+Ba+4fgzpXgLwmrcS2V0SHpebg6KZj33bhAaxXui8U5Pv9c3Dn0Ydz1NMQvH40Lulf75ZJwgWIj7rx4CXddZOF+nTkbF9BO8NuZRXM/3V3GmCxc3RBscbrb75ty3DkzCXfevuGPYbDLQLDuyTTGROG6MkXjzneMMRONMaND8j5I88NSp/ryLsOdXx/z11maz/tv+LqU5sBlCCF1qV9nsMUsWPfU0PxldBK+7sEFZOfizpNHaO6TOsEvN9Jvz0m482uhzy/Gp2/x5f8S7poMdpUo9Oln+7wfxJ0POT79NH+MDuF++XzKlznYTSCG5l8HGv1++rHfj9t8uU/DneP/9vttF+58Dl5n9biA7wAusAL3IJrF1f2lNJ+vb/m8XvA/yRvclzhrrd1kjJlgjPkV7n4WC+z36TNp7nb0N1zdsR7XhedcXL1xH+6edZW/hkf4vPNxQVYeru5b4NPLgPeMMRN8PrG4Omy/tXYT7jw+xW/vOH9sV+Ku61/g6q5xNI8oU4I77v/A/XppcfX4qTSfr4f9/ngVN9rHNH+sin0Xh2Wt5L3Cb0MF7vxci7se7vbHJpXmB7bjcdf2TbhraALuPDgJVx/8H+6a2ufTD/h8h+O+2P2v/9xbNH+RD/h9cDzu3P0R7hqMw93jPu7/fYbmX/me8V3BGmiOXxr8Ms/i6vJcn/dm3K+vS/z2rMIF14/j7s95uC+9y/3xqMXVJ5fgztvTcLHPIr+NQfNwcQa48/hUY8xQX65Ffr29ry+ecuzPL3+Q8nEXyD5cK8JXaX4gIBCSvpojhwz6g1+2kiOHViqkeVSPYFoDrhJb3WLZWtwTxuUt0mtwF2Nji/Qc3EXQ2CLvH+BO1tBli3E3pNoW6eU0D2EW+jqMuzBapj+Cu1hb5vHDFnkHf+ppLe83OXJYQOu34SetpNfhfl5ruT3Bn/6qW6S/iLv5BELSArgbzs5Wyh38VSG0HEW4Cz40j+Axa5l3He582Nsi7+U0P6Eemp6L+xUhNI+DPo8HWxzLWtzPcaHnSSMuAAmel4GQ9PUh6aH5lLRyHAK4vnqbWuQdmkfwnK/EBSdf5cghHoP7teV5X4/7SXg1zcNK1eIC6ZblC1bq97Wyv3+L6zITml7t91VOK8fyhRb7O3gsl7SS92KOPL8DuGuktWO2FnczbZnHplaOZXEb5culuQ96y7xbrrPRl++rHDmMVyPuxrWuRR6luPO4Zb2xC9evNDTvCty19C2OPEfqcF98V7eyPT/iyHOt3u/rluUO+O35HkcOAxc8v0PzDt3G1s7XF2juThMs3x6ah4kM3Z7Ptcg7uI1fbbFP6nHXwa0ceb7W+WP5o5D0Rtqu64Pb2HJ/L/f7NfSYBa+Rlvu7EXdObW+RxyHc/aLlfWRDK3lX4IKtlveGGl/u91qk5+F+Mi8PSa/HXZetlfttv97QctzJ0fVA8AvMT1ocm+CxXN4irR53vW9ukb4Md76G5l2Lu9+0zDt4LH/aIr3Wb8u9LY7vRlyg9qkW66zAdVe4pEX6AdyX8uC1Hkx/vJVlg8ftBy3SanH1wF9bpBeG5F1H89B4b7eSdyPuy3bL9Fq//Ze3OGY7QvIO3S9LjlHuG1tJfwjXANgy/alW0upxz2W1TK9sJe/gr80tl63CfUlYErK/A7j65SSaR7MKtrwHhyj+ic9vA+7+Gd8XsaJmQBQRERER6SJ18xARERER6SIF0yIiIiIiXaRgWkRERESkixRMi4iIiIh0kYJpEREREZEuUjAtIjIAGGepMebikLSrjDEvhrNcIiIDnYbGExEZIIwxc3Dj3p6Am6jjPeAia23OMT/Yel4x1tqG9pcUERncFEyLiAwgxphf4yZHSPT/TgDm4GZ++7G19hljzETchAaJ/mNfsta+bYw5Bzer2yFghrV2Wt+WXkSk/1EwLSIygPjpm9fgZlL7D7DRWvtPY8ww3NTWJ+BnUrPW1hhjsoGHrbXzfTD9X2COtXZnOMovItLfxIS7ACIi0nOstZXGmEdx0yJ/DLjMGPNN/3YCMB43FfxfjTHzcFP0hrZAv6tAWkSk4xRMi4gMPI3+ZYCPWGu3hr5pjPkxUADMxT2IXhPydmUflVFEZEDQaB4iIgPXS8CXjTEGwBhzgk9PBfKttY3AdUB0mMonItLvKZgWERm4foZ78HCdMWaj/z/A34AbjDHvAzNQa7SISJfpAUQRERERkS5Sy7SIiIiISBcpmBYRERER6SIF0yIiIiIiXaRgWkRERESkixRMi4iIiIh0kYJpEREREZEuUjAtIiIiItJFCqZFRERERLro/wPR4cvUP8jWrAAAAABJRU5ErkJggg==\n",
       "datasetInfos": [],
       "metadata": {},
       "removedWidgets": [],
       "type": "image"
      }
     },
     "output_type": "display_data"
    }
   ],
   "source": [
    "import matplotlib.pyplot as plt\n",
    "import pandas as pd\n",
    "\n",
    "# Convert Spark DataFrame to Pandas for plotting\n",
    "pandas_df = movies_per_year.toPandas()\n",
    "\n",
    "plt.figure(figsize=(12,6))\n",
    "plt.plot(pandas_df['year'], pandas_df['count'])\n",
    "plt.title('Movies Released Per Year')\n",
    "plt.xlabel('Year')\n",
    "plt.ylabel('Number of Movies')\n",
    "plt.show()\n"
   ]
  },
  {
   "cell_type": "code",
   "execution_count": 0,
   "metadata": {
    "application/vnd.databricks.v1+cell": {
     "cellMetadata": {
      "byteLimit": 2048000,
      "rowLimit": 10000
     },
     "inputWidgets": {},
     "nuid": "9726bf00-aa59-4442-920b-a1dcfed42dd5",
     "showTitle": false,
     "tableResultSettingsMap": {},
     "title": ""
    }
   },
   "outputs": [],
   "source": [
    "from pyspark.ml.recommendation import ALS\n",
    "from pyspark.ml.evaluation import RegressionEvaluator\n",
    "from pyspark.sql.functions import col\n",
    "\n",
    "# Prepare training data\n",
    "als_data = ratings_df.select(\"userId\", \"movieId\", \"rating\").na.drop()\n",
    "\n",
    "# Train/test split\n",
    "(training, test) = als_data.randomSplit([0.8, 0.2], seed=42)\n"
   ]
  },
  {
   "cell_type": "code",
   "execution_count": 0,
   "metadata": {
    "application/vnd.databricks.v1+cell": {
     "cellMetadata": {
      "byteLimit": 2048000,
      "rowLimit": 10000
     },
     "inputWidgets": {},
     "nuid": "5a1684d8-844e-444d-b678-d61e9a40595d",
     "showTitle": false,
     "tableResultSettingsMap": {},
     "title": ""
    }
   },
   "outputs": [],
   "source": [
    "als = ALS(\n",
    "    userCol=\"userId\",\n",
    "    itemCol=\"movieId\",\n",
    "    ratingCol=\"rating\",\n",
    "    nonnegative=True,\n",
    "    implicitPrefs=False,\n",
    "    coldStartStrategy=\"drop\",  # avoid NaN predictions\n",
    "    rank=10,\n",
    "    maxIter=10,\n",
    "    regParam=0.1\n",
    ")\n"
   ]
  },
  {
   "cell_type": "code",
   "execution_count": 0,
   "metadata": {
    "application/vnd.databricks.v1+cell": {
     "cellMetadata": {
      "byteLimit": 2048000,
      "rowLimit": 10000
     },
     "inputWidgets": {},
     "nuid": "322395d5-761f-418a-8c4a-08ad64b9f52e",
     "showTitle": false,
     "tableResultSettingsMap": {},
     "title": ""
    }
   },
   "outputs": [],
   "source": [
    "model = als.fit(training)\n"
   ]
  },
  {
   "cell_type": "code",
   "execution_count": 0,
   "metadata": {
    "application/vnd.databricks.v1+cell": {
     "cellMetadata": {
      "byteLimit": 2048000,
      "rowLimit": 10000
     },
     "inputWidgets": {},
     "nuid": "0265b22b-de11-4e78-9682-3f1d13ec9824",
     "showTitle": false,
     "tableResultSettingsMap": {},
     "title": ""
    }
   },
   "outputs": [
    {
     "output_type": "stream",
     "name": "stdout",
     "output_type": "stream",
     "text": [
      "Root-mean-square error = 0.8764\n"
     ]
    }
   ],
   "source": [
    "predictions = model.transform(test)\n",
    "\n",
    "evaluator = RegressionEvaluator(\n",
    "    metricName=\"rmse\",\n",
    "    labelCol=\"rating\",\n",
    "    predictionCol=\"prediction\"\n",
    ")\n",
    "\n",
    "rmse = evaluator.evaluate(predictions)\n",
    "print(f\"Root-mean-square error = {rmse:.4f}\")\n"
   ]
  },
  {
   "cell_type": "code",
   "execution_count": 0,
   "metadata": {
    "application/vnd.databricks.v1+cell": {
     "cellMetadata": {
      "byteLimit": 2048000,
      "rowLimit": 10000
     },
     "inputWidgets": {},
     "nuid": "7d40d427-0073-4d67-9789-1f224e11b7ae",
     "showTitle": false,
     "tableResultSettingsMap": {},
     "title": ""
    }
   },
   "outputs": [
    {
     "output_type": "display_data",
     "data": {
      "text/html": [
       "<style scoped>\n",
       "  .table-result-container {\n",
       "    max-height: 300px;\n",
       "    overflow: auto;\n",
       "  }\n",
       "  table, th, td {\n",
       "    border: 1px solid black;\n",
       "    border-collapse: collapse;\n",
       "  }\n",
       "  th, td {\n",
       "    padding: 5px;\n",
       "  }\n",
       "  th {\n",
       "    text-align: left;\n",
       "  }\n",
       "</style><div class='table-result-container'><table class='table-result'><thead style='background-color: white'><tr><th>userId</th><th>recommendations</th></tr></thead><tbody><tr><td>1</td><td>List(List(33649, 5.609492), List(171495, 5.5740457), List(96004, 5.5391355), List(3379, 5.5391355), List(5915, 5.531417), List(3606, 5.515689), List(3358, 5.4966693), List(951, 5.4904156), List(78836, 5.4786415), List(170705, 5.4513636))</td></tr><tr><td>2</td><td>List(List(92643, 5.2148867), List(84847, 5.032443), List(49347, 5.02395), List(5075, 4.9752474), List(110130, 4.9229918), List(158882, 4.8931637), List(158398, 4.8931637), List(157775, 4.8931637), List(156025, 4.8931637), List(149508, 4.8931637))</td></tr><tr><td>3</td><td>List(List(89118, 7.090389), List(6835, 4.904598), List(5746, 4.904598), List(5181, 4.8346214), List(4518, 4.749784), List(2851, 4.612047), List(7899, 4.4141383), List(26409, 4.322455), List(158783, 4.0841312), List(86377, 4.005135))</td></tr><tr><td>4</td><td>List(List(96004, 4.876039), List(3379, 4.876039), List(3851, 4.86883), List(1733, 4.8322625), List(171, 4.827588), List(8477, 4.788594), List(1287, 4.7686963), List(1283, 4.7629046), List(1046, 4.7613835), List(7748, 4.751182))</td></tr><tr><td>5</td><td>List(List(187, 4.8225555), List(7096, 4.8136063), List(26171, 4.8011203), List(177593, 4.8004613), List(174053, 4.777703), List(3925, 4.768789), List(8235, 4.714485), List(6201, 4.714485), List(96004, 4.7095885), List(3379, 4.7095885))</td></tr></tbody></table></div>"
      ]
     },
     "metadata": {
      "application/vnd.databricks.v1+output": {
       "addedWidgets": {},
       "aggData": [],
       "aggError": "",
       "aggOverflow": false,
       "aggSchema": [],
       "aggSeriesLimitReached": false,
       "aggType": "",
       "arguments": {},
       "columnCustomDisplayInfos": {},
       "data": [
        [
         1,
         [
          [
           33649,
           5.609492
          ],
          [
           171495,
           5.5740457
          ],
          [
           96004,
           5.5391355
          ],
          [
           3379,
           5.5391355
          ],
          [
           5915,
           5.531417
          ],
          [
           3606,
           5.515689
          ],
          [
           3358,
           5.4966693
          ],
          [
           951,
           5.4904156
          ],
          [
           78836,
           5.4786415
          ],
          [
           170705,
           5.4513636
          ]
         ]
        ],
        [
         2,
         [
          [
           92643,
           5.2148867
          ],
          [
           84847,
           5.032443
          ],
          [
           49347,
           5.02395
          ],
          [
           5075,
           4.9752474
          ],
          [
           110130,
           4.9229918
          ],
          [
           158882,
           4.8931637
          ],
          [
           158398,
           4.8931637
          ],
          [
           157775,
           4.8931637
          ],
          [
           156025,
           4.8931637
          ],
          [
           149508,
           4.8931637
          ]
         ]
        ],
        [
         3,
         [
          [
           89118,
           7.090389
          ],
          [
           6835,
           4.904598
          ],
          [
           5746,
           4.904598
          ],
          [
           5181,
           4.8346214
          ],
          [
           4518,
           4.749784
          ],
          [
           2851,
           4.612047
          ],
          [
           7899,
           4.4141383
          ],
          [
           26409,
           4.322455
          ],
          [
           158783,
           4.0841312
          ],
          [
           86377,
           4.005135
          ]
         ]
        ],
        [
         4,
         [
          [
           96004,
           4.876039
          ],
          [
           3379,
           4.876039
          ],
          [
           3851,
           4.86883
          ],
          [
           1733,
           4.8322625
          ],
          [
           171,
           4.827588
          ],
          [
           8477,
           4.788594
          ],
          [
           1287,
           4.7686963
          ],
          [
           1283,
           4.7629046
          ],
          [
           1046,
           4.7613835
          ],
          [
           7748,
           4.751182
          ]
         ]
        ],
        [
         5,
         [
          [
           187,
           4.8225555
          ],
          [
           7096,
           4.8136063
          ],
          [
           26171,
           4.8011203
          ],
          [
           177593,
           4.8004613
          ],
          [
           174053,
           4.777703
          ],
          [
           3925,
           4.768789
          ],
          [
           8235,
           4.714485
          ],
          [
           6201,
           4.714485
          ],
          [
           96004,
           4.7095885
          ],
          [
           3379,
           4.7095885
          ]
         ]
        ]
       ],
       "datasetInfos": [],
       "dbfsResultPath": null,
       "isJsonSchema": true,
       "metadata": {},
       "overflow": false,
       "plotOptions": {
        "customPlotOptions": {},
        "displayType": "table",
        "pivotAggregation": null,
        "pivotColumns": null,
        "xColumns": null,
        "yColumns": null
       },
       "removedWidgets": [],
       "schema": [
        {
         "metadata": "{}",
         "name": "userId",
         "type": "\"integer\""
        },
        {
         "metadata": "{}",
         "name": "recommendations",
         "type": "{\"type\":\"array\",\"elementType\":{\"type\":\"struct\",\"fields\":[{\"name\":\"movieId\",\"type\":\"integer\",\"nullable\":true,\"metadata\":{}},{\"name\":\"rating\",\"type\":\"float\",\"nullable\":true,\"metadata\":{}}]},\"containsNull\":true}"
        }
       ],
       "type": "table"
      }
     },
     "output_type": "display_data"
    }
   ],
   "source": [
    "# Generate top 10 movie recommendations for each user\n",
    "user_recs = model.recommendForAllUsers(10)\n",
    "display(user_recs.limit(5))\n"
   ]
  },
  {
   "cell_type": "code",
   "execution_count": 0,
   "metadata": {
    "application/vnd.databricks.v1+cell": {
     "cellMetadata": {
      "byteLimit": 2048000,
      "rowLimit": 10000
     },
     "inputWidgets": {},
     "nuid": "6f398982-93fc-4937-acf6-8aaf3cbf4a45",
     "showTitle": false,
     "tableResultSettingsMap": {},
     "title": ""
    }
   },
   "outputs": [
    {
     "output_type": "display_data",
     "data": {
      "text/html": [
       "<style scoped>\n",
       "  .table-result-container {\n",
       "    max-height: 300px;\n",
       "    overflow: auto;\n",
       "  }\n",
       "  table, th, td {\n",
       "    border: 1px solid black;\n",
       "    border-collapse: collapse;\n",
       "  }\n",
       "  th, td {\n",
       "    padding: 5px;\n",
       "  }\n",
       "  th {\n",
       "    text-align: left;\n",
       "  }\n",
       "</style><div class='table-result-container'><table class='table-result'><thead style='background-color: white'><tr><th>userId</th><th>clean_title</th><th>predicted_rating</th></tr></thead><tbody><tr><td>7</td><td>Titanic</td><td>5.2149496</td></tr><tr><td>7</td><td>Frozen River</td><td>4.9753695</td></tr><tr><td>7</td><td>Visitor, The</td><td>4.9753695</td></tr><tr><td>7</td><td>Tender Mercies</td><td>4.952336</td></tr><tr><td>7</td><td>Deathgasm</td><td>4.7349806</td></tr><tr><td>7</td><td>Grand Day Out with Wallace and Gromit, A</td><td>4.7287335</td></tr><tr><td>7</td><td>The Artist</td><td>4.7210956</td></tr><tr><td>7</td><td>Jetée, La</td><td>4.6727834</td></tr><tr><td>7</td><td>African Queen, The</td><td>4.630086</td></tr><tr><td>7</td><td>Afterglow</td><td>4.59909</td></tr></tbody></table></div>"
      ]
     },
     "metadata": {
      "application/vnd.databricks.v1+output": {
       "addedWidgets": {},
       "aggData": [],
       "aggError": "",
       "aggOverflow": false,
       "aggSchema": [],
       "aggSeriesLimitReached": false,
       "aggType": "",
       "arguments": {},
       "columnCustomDisplayInfos": {},
       "data": [
        [
         7,
         "Titanic",
         5.2149496
        ],
        [
         7,
         "Frozen River",
         4.9753695
        ],
        [
         7,
         "Visitor, The",
         4.9753695
        ],
        [
         7,
         "Tender Mercies",
         4.952336
        ],
        [
         7,
         "Deathgasm",
         4.7349806
        ],
        [
         7,
         "Grand Day Out with Wallace and Gromit, A",
         4.7287335
        ],
        [
         7,
         "The Artist",
         4.7210956
        ],
        [
         7,
         "Jetée, La",
         4.6727834
        ],
        [
         7,
         "African Queen, The",
         4.630086
        ],
        [
         7,
         "Afterglow",
         4.59909
        ]
       ],
       "datasetInfos": [],
       "dbfsResultPath": null,
       "isJsonSchema": true,
       "metadata": {},
       "overflow": false,
       "plotOptions": {
        "customPlotOptions": {},
        "displayType": "table",
        "pivotAggregation": null,
        "pivotColumns": null,
        "xColumns": null,
        "yColumns": null
       },
       "removedWidgets": [],
       "schema": [
        {
         "metadata": "{}",
         "name": "userId",
         "type": "\"integer\""
        },
        {
         "metadata": "{}",
         "name": "clean_title",
         "type": "\"string\""
        },
        {
         "metadata": "{}",
         "name": "predicted_rating",
         "type": "\"float\""
        }
       ],
       "type": "table"
      }
     },
     "output_type": "display_data"
    }
   ],
   "source": [
    "from pyspark.sql.functions import explode\n",
    "\n",
    "recommendations = user_recs.withColumn(\"rec\", explode(\"recommendations\")) \\\n",
    "    .select(\"userId\", col(\"rec.movieId\").alias(\"movieId\"), col(\"rec.rating\").alias(\"predicted_rating\"))\n",
    "\n",
    "# Join with movie titles\n",
    "recommended_movies = recommendations.join(movies_df, \"movieId\") \\\n",
    "    .select(\"userId\", \"clean_title\", \"predicted_rating\")\n",
    "\n",
    "display(recommended_movies.filter(\"userId =7\"))\n"
   ]
  },
  {
   "cell_type": "code",
   "execution_count": 0,
   "metadata": {
    "application/vnd.databricks.v1+cell": {
     "cellMetadata": {
      "byteLimit": 2048000,
      "rowLimit": 10000
     },
     "inputWidgets": {},
     "nuid": "11de8d4f-0f92-4ae7-943d-ef1f5ccfc351",
     "showTitle": false,
     "tableResultSettingsMap": {},
     "title": ""
    }
   },
   "outputs": [],
   "source": [
    "# Save recommendations as Parquet (preferred for big data)\n",
    "recommended_movies.write.mode(\"overwrite\").parquet(\"/FileStore/movielens/recommended_movies.parquet\")\n",
    "\n",
    "# Or save as CSV for easy download\n",
    "recommended_movies.write.mode(\"overwrite\").csv(\"/FileStore/movielens/recommended_movies_csv\")\n"
   ]
  }
 ],
 "metadata": {
  "application/vnd.databricks.v1+notebook": {
   "computePreferences": null,
   "dashboards": [],
   "environmentMetadata": {
    "base_environment": "",
    "environment_version": "1"
   },
   "inputWidgetPreferences": null,
   "language": "python",
   "notebookMetadata": {
    "mostRecentlyExecutedCommandWithImplicitDF": {
     "commandId": 4000805242579480,
     "dataframes": [
      "_sqldf"
     ]
    },
    "pythonIndentUnit": 4
   },
   "notebookName": "Movie Recommendation",
   "widgets": {}
  }
 },
 "nbformat": 4,
 "nbformat_minor": 0
}